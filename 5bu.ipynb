{
 "cells": [
  {
   "cell_type": "code",
   "execution_count": 1,
   "id": "53cd14d7",
   "metadata": {},
   "outputs": [
    {
     "data": {
      "text/html": [
       "        <script type=\"text/javascript\">\n",
       "        window.PlotlyConfig = {MathJaxConfig: 'local'};\n",
       "        if (window.MathJax) {MathJax.Hub.Config({SVG: {font: \"STIX-Web\"}});}\n",
       "        if (typeof require !== 'undefined') {\n",
       "        require.undef(\"plotly\");\n",
       "        requirejs.config({\n",
       "            paths: {\n",
       "                'plotly': ['https://cdn.plot.ly/plotly-2.9.0.min']\n",
       "            }\n",
       "        });\n",
       "        require(['plotly'], function(Plotly) {\n",
       "            window._Plotly = Plotly;\n",
       "        });\n",
       "        }\n",
       "        </script>\n",
       "        "
      ]
     },
     "metadata": {},
     "output_type": "display_data"
    }
   ],
   "source": [
    "import sys\n",
    "import warnings\n",
    "warnings.filterwarnings('ignore')\n",
    "from tqdm import tqdm\n",
    "import pandas as pd\n",
    "import numpy as np\n",
    "from sklearn.metrics import mean_absolute_error\n",
    "from sklearn.linear_model import LinearRegression\n",
    "import matplotlib.pyplot as plt\n",
    "from IPython.display import clear_output\n",
    "from tqdm import tqdm\n",
    "import xgboost as xgb \n",
    "from sklearn.model_selection import TimeSeriesSplit\n",
    "from plotly.offline import download_plotlyjs, init_notebook_mode, plot, iplot\n",
    "from plotly import graph_objs as go\n",
    "init_notebook_mode(connected = True)\n",
    "from sklearn.model_selection import cross_val_score\n",
    "import seaborn as sns\n",
    "from datetime import timedelta\n",
    "from sklearn.pipeline import Pipeline\n",
    "from sklearn.preprocessing import StandardScaler\n",
    "from xgboost import XGBRegressor\n",
    "from sklearn.preprocessing import StandardScaler\n",
    "scaler = StandardScaler()\n",
    "tscv = TimeSeriesSplit(n_splits=2)"
   ]
  },
  {
   "cell_type": "code",
   "execution_count": 533,
   "id": "4e8d916b",
   "metadata": {},
   "outputs": [],
   "source": [
    "train = pd.read_csv('train.csv', parse_dates=['Дата транзакции'])\n",
    "test = pd.read_csv('example.csv', parse_dates=['Дата транзакции'])\n",
    "tariff = pd.read_csv('Тарифы 2019-2020.csv')  #БЕ №5\n",
    "contragent = pd.read_csv('Контрагенты по годам.csv') #БЕ №5\n",
    "ora = pd.read_csv('Покупка с ОРЭ 2019-2020.csv')#БЕ №3\n",
    "valid_res = pd.read_excel('1кв2021_1.xlsx')"
   ]
  },
  {
   "cell_type": "code",
   "execution_count": 208,
   "id": "6756c686",
   "metadata": {},
   "outputs": [],
   "source": [
    "tariff.drop(tariff.columns[0], axis=1, inplace=True)\n",
    "tariff=tariff.rename(columns={tariff.columns[5]:\"sum\",\n",
    "                              tariff.columns[4]:\"tariff\",\n",
    "                              tariff.columns[0]:\"ctr\",\n",
    "                              tariff.columns[1]:'mth',\n",
    "                              tariff.columns[2]:'year'})\n",
    "\n",
    "\n",
    "tariff['sum'] = tariff['sum'].apply(lambda x: x.replace(' ',\"\"))\n",
    "\n",
    "tariff['sum'] = tariff['sum'].apply(lambda x: x.replace(',',\".\"))\n",
    "\n",
    "tariff['sum'] = tariff['sum'].astype(float)"
   ]
  },
  {
   "cell_type": "code",
   "execution_count": 225,
   "id": "3523cfab",
   "metadata": {},
   "outputs": [],
   "source": [
    "tariff_1 = tariff.loc[tariff['ctr']==1]\n",
    "tariff_2 = tariff.loc[tariff['ctr']==2]\n",
    "tariff_3 = tariff.loc[tariff['ctr']==3]\n",
    "tariff_4 = tariff.loc[tariff['ctr']==4]"
   ]
  },
  {
   "cell_type": "code",
   "execution_count": 534,
   "id": "6be75238",
   "metadata": {},
   "outputs": [],
   "source": [
    "# приведем к нужному временному формату дату\n",
    "for i in range(valid_res.shape[0]):\n",
    "    date=valid_res.iloc[i,2]\n",
    "    date = date.replace('.','')\n",
    "    revdate = date[4:]+'-'+date[2:4]+'-'+date[0:2]\n",
    "    valid_res.iloc[i,2]=revdate"
   ]
  },
  {
   "cell_type": "code",
   "execution_count": 4,
   "id": "9acf2c05",
   "metadata": {},
   "outputs": [],
   "source": [
    "# выкидываем маленькие выплаты\n",
    "zero_inedx = []\n",
    "for i in range(train.shape[0]):\n",
    "    if train.iloc[i,2] > -150000:\n",
    "        zero_inedx.append(i)\n",
    "train.drop(train.index[zero_inedx], inplace=True)"
   ]
  },
  {
   "cell_type": "code",
   "execution_count": 5,
   "id": "3302a6ed",
   "metadata": {},
   "outputs": [],
   "source": [
    "# могли получиться положительные значения - занулим их\n",
    "def PosToZero(dfres):\n",
    "    for i in range(dfres.shape[0]):\n",
    "        if dfres.iloc[i,1] > 0:\n",
    "            dfres.iloc[i,1] = 0"
   ]
  },
  {
   "cell_type": "code",
   "execution_count": 6,
   "id": "144cd5e3",
   "metadata": {},
   "outputs": [],
   "source": [
    "def AlignData(be):\n",
    "    startIdx = 0\n",
    "    train_part = train[train['БЕ']==be]\n",
    "    train_part.drop(['БЕ'], axis=1, inplace=True)\n",
    "    train_align = pd.DataFrame(columns=['Дата транзакции', 'Сумма в RUB'])\n",
    "    prev = train_part.iloc[startIdx,0]\n",
    "    train_align=train_align.append(train_part.iloc[0])\n",
    "    ind = 1; indAlign = 1\n",
    "    while ind < train_part.shape[0]:\n",
    "        # ниже мы рассматриваем разницу в днях \n",
    "        if train_part.iloc[ind,0] - prev == timedelta(days=7):\n",
    "            prev = train_part.iloc[ind,0]\n",
    "            train_align = train_align.append(train_part.iloc[ind])\n",
    "            ind += 1; indAlign += 1\n",
    "        elif train_part.iloc[ind,0] - prev == timedelta(days=8):\n",
    "            train_part.iloc[ind,0]=prev+timedelta(days=7)\n",
    "            prev = train_part.iloc[ind,0]\n",
    "            train_align = train_align.append(train_part.iloc[ind])\n",
    "            ind += 1; indAlign += 1\n",
    "        elif train_part.iloc[ind,0] - prev == timedelta(days=4):\n",
    "            train_part.iloc[ind,0]=prev+timedelta(days=7)\n",
    "            prev = train_part.iloc[ind,0]\n",
    "            train_align = train_align.append(train_part.iloc[ind])\n",
    "            ind += 1; indAlign += 1\n",
    "        elif train_part.iloc[ind,0] - prev == timedelta(days=9):\n",
    "            train_part.iloc[ind,0]=prev+timedelta(days=7)\n",
    "            prev=train_part.iloc[ind,0]\n",
    "            train_align = train_align.append(train_part.iloc[ind])\n",
    "            ind += 1; indAlign += 1\n",
    "        elif train_part.iloc[ind,0] - prev == timedelta(days=6):\n",
    "            train_part.iloc[ind,0]=prev+timedelta(days=7)\n",
    "            prev=train_part.iloc[ind,0]\n",
    "            train_align = train_align.append(train_part.iloc[ind])\n",
    "            ind += 1; indAlign += 1\n",
    "        elif train_part.iloc[ind,0] - prev == timedelta(days=5):\n",
    "            train_part.iloc[ind,0]=prev+timedelta(days=7)\n",
    "            prev=train_part.iloc[ind,0]\n",
    "            train_align = train_align.append(train_part.iloc[ind])\n",
    "            ind += 1; indAlign += 1\n",
    "        elif train_part.iloc[ind,0] - prev == timedelta(days=1):#for bu=2\n",
    "            train_align.iloc[indAlign-1,1] += train_part.iloc[ind,1] \n",
    "            ind += 1\n",
    "        elif train_part.iloc[ind,0] - prev == timedelta(days=2):#for bu=2\n",
    "            train_align.iloc[indAlign-1,1] += train_part.iloc[ind,1] \n",
    "            ind += 1\n",
    "        elif train_part.iloc[ind,0] - prev == timedelta(days=0):\n",
    "            train_align.iloc[indAlign-1,1] += train_part.iloc[ind,1] \n",
    "            ind += 1\n",
    "        # change\n",
    "        elif train_part.iloc[ind,0] - prev < timedelta(days=0):\n",
    "            ind += 1\n",
    "        else :\n",
    "            train_align=train_align.append(pd.DataFrame([[prev+timedelta(days=7), 0]], columns=['Дата транзакции', 'Сумма в RUB']), ignore_index=True)\n",
    "            prev=prev+timedelta(days=7)\n",
    "            indAlign += 1\n",
    "    train_align = train_align.set_index('Дата транзакции')\n",
    "    return train_align"
   ]
  },
  {
   "cell_type": "code",
   "execution_count": 7,
   "id": "b2836ad8",
   "metadata": {},
   "outputs": [],
   "source": [
    "class ARModel:\n",
    "    def __init__(self, window, model):\n",
    "        self.window = window\n",
    "        self.model = model\n",
    "    \n",
    "    def fit(self, path):\n",
    "        n = path.strides[0]\n",
    "        X = np.lib.stride_tricks.as_strided(\n",
    "            path,\n",
    "            shape=(path.shape[0], self.window),\n",
    "            strides=(n, n),\n",
    "        )[:-self.window]\n",
    "        Y = path[self.window:]\n",
    "        self.history = path[-self.window:].reshape(1, -1)\n",
    "        self.model.fit(X, Y)\n",
    "        \n",
    "    def forecast(self, steps):\n",
    "        history = self.history.copy()\n",
    "        predictions = np.empty(steps)\n",
    "        \n",
    "        for i in range(steps):\n",
    "            y_pred = self.model.predict(history)[0]    \n",
    "            predictions[i] = y_pred\n",
    "            \n",
    "            history[0, :-1] = history[0, 1:]\n",
    "            history[0, -1] = y_pred\n",
    "\n",
    "        return predictions"
   ]
  },
  {
   "cell_type": "code",
   "execution_count": 8,
   "id": "96acd0ae",
   "metadata": {},
   "outputs": [],
   "source": [
    "#Ниже функция осуществляет предобработку данных - добавляет лаги.\n",
    "#Также она делит выборку на тренировочную и тестовую, чтобы определить ошибку и сравнить графически.\n",
    "def prepareData(data, lag_start=1, lag_end=10,test_size=0.15):\n",
    "\n",
    "    data = pd.DataFrame(data.copy())\n",
    "    data.columns = [\"y\"]\n",
    "\n",
    "    # считаем индекс в датафрейме, после которого начинается тестовыый отрезок\n",
    "    test_index = int(len(data)*(1-test_size))\n",
    "\n",
    "    # добавляем лаги исходного ряда в качестве признаков\n",
    "    for i in range(lag_start, lag_end):\n",
    "        data[\"lag_{}\".format(i)] = data.y.shift(i)\n",
    "\n",
    "    data = data.dropna()\n",
    "    data = data.reset_index(drop=True)\n",
    "\n",
    "    # разбиваем весь датасет на тренировочную и тестовую выборку\n",
    "    X_train = data.loc[:test_index].drop([\"y\"], axis=1)\n",
    "    y_train = data.loc[:test_index][\"y\"]\n",
    "    X_test = data.loc[test_index:].drop([\"y\"], axis=1)\n",
    "    y_test = data.loc[test_index:][\"y\"]\n",
    "    \n",
    "    return X_train, y_train, X_test, y_test"
   ]
  },
  {
   "cell_type": "code",
   "execution_count": 9,
   "id": "95822ca0",
   "metadata": {},
   "outputs": [],
   "source": [
    "# функция для построения графика\n",
    "def plotCoefficients(model, X_train):\n",
    "    \"\"\"\n",
    "        Plots sorted coefficient values of the model\n",
    "    \"\"\"\n",
    "    \n",
    "    coefs = pd.DataFrame(model.coef_, X_train.columns)\n",
    "    coefs.columns = [\"coef\"]\n",
    "    coefs[\"abs\"] = coefs.coef.apply(np.abs)\n",
    "    coefs = coefs.sort_values(by=\"abs\", ascending=False).drop([\"abs\"], axis=1)\n",
    "    \n",
    "    plt.figure(figsize=(15, 7))\n",
    "    coefs.coef.plot(kind='bar')\n",
    "    plt.grid(True, axis='y')\n",
    "    plt.hlines(y=0, xmin=0, xmax=len(coefs), linestyles='dashed');"
   ]
  },
  {
   "cell_type": "code",
   "execution_count": 10,
   "id": "f314d313",
   "metadata": {},
   "outputs": [],
   "source": [
    "# функция, которая предсказывает значения модели и строит график\n",
    "def plotModelResults(model, X_train, X_test,y_test,y_train, plot_intervals=False, plot_anomalies=False, scale=1.96, y_pred=[], plot=True):\n",
    "    \"\"\"\n",
    "        Plots modelled vs fact values, prediction intervals and anomalies\n",
    "    \n",
    "    \"\"\"\n",
    "    \n",
    "    prediction = model.predict(X_test)\n",
    "    error = mean_absolute_error(prediction, y_test)\n",
    "    prediction = np.append(prediction, y_pred)\n",
    "    if plot:\n",
    "        plt.figure(figsize=(15, 7))\n",
    "        plt.plot(prediction, \"g\", label=\"prediction\", linewidth=2.0)\n",
    "        plt.plot(y_test.values, label=\"actual\", linewidth=2.0)\n",
    "        if plot_intervals:\n",
    "            cv = cross_val_score(model, X_train, y_train, \n",
    "                                        cv=tscv, \n",
    "                                        scoring=\"neg_mean_squared_error\")\n",
    "            deviation = np.sqrt(cv.std())\n",
    "\n",
    "            lower = prediction - (scale * deviation)\n",
    "            upper = prediction + (scale * deviation)\n",
    "\n",
    "            plt.plot(lower, \"r--\", label=\"upper bond / lower bond\", alpha=0.5)\n",
    "            plt.plot(upper, \"r--\", alpha=0.5)\n",
    "\n",
    "            if plot_anomalies:\n",
    "                anomalies = np.array([np.NaN]*len(y_test))\n",
    "                anomalies[y_test<lower] = y_test[y_test<lower]\n",
    "                anomalies[y_test>upper] = y_test[y_test>upper]\n",
    "                plt.plot(anomalies, \"o\", markersize=10, label = \"Anomalies\")\n",
    "\n",
    "        plt.title(\"mean_absolute_error {}\".format(error))\n",
    "        plt.legend(loc=\"best\")\n",
    "        plt.tight_layout()\n",
    "        plt.grid(True);\n",
    "    return error"
   ]
  },
  {
   "cell_type": "code",
   "execution_count": 11,
   "id": "ef9ffb10",
   "metadata": {},
   "outputs": [],
   "source": [
    "# параметрами данной функции есть:\n",
    "# lag - количество лагов, используемых в модели\n",
    "# cnt - на сколько дней сделать предсказания \n",
    "def MakePlotswithPrediction(train_align,model, lag=12, cnt=26, plot=True):\n",
    "    lag_start=1\n",
    "    lag_end=lag\n",
    "    cntpred = cnt\n",
    "    X_train, y_train, X_test, y_test = prepareData(data=train_align,lag_start=1, lag_end=lag_end,test_size=0)\n",
    "    \n",
    "    X_train_scaled = scaler.fit_transform(X_train)\n",
    "\n",
    "    y1_pred = y_train[-1:]\n",
    "    y_pred = []\n",
    "    X_test = pd.DataFrame(X_train[-1:].copy())    \n",
    "    for _ in range(cntpred):\n",
    "        for i in range(lag_end-2, lag_start-1,-1):\n",
    "            X_test.iloc[0,i]=X_test.iloc[0,i-1]\n",
    "        X_test.iloc[0,0]=y1_pred\n",
    "        X_test_scaled = scaler.transform(X_test)\n",
    "        model.fit(X_train, y_train)\n",
    "        y1_pred = model.predict(X_test)[0]\n",
    "        y_pred.append(y1_pred)\n",
    "\n",
    "    X_train, y_train, X_test, y_test = prepareData(data=train_align,lag_start=1, lag_end=lag_end,test_size=0.20)\n",
    "\n",
    "    X_train_scaled = scaler.fit_transform(X_train)\n",
    "    X_test_scaled = scaler.transform(X_test)\n",
    "\n",
    "    model.fit(X_train_scaled, y_train)\n",
    "\n",
    "    error = plotModelResults(model, X_train=X_train_scaled, X_test=X_test_scaled,y_test=y_test,y_train=y_train, plot_intervals=True, y_pred=y_pred, plot=plot)\n",
    "    #plotCoefficients(model, X_train=X_train)\n",
    "    return y_pred, error"
   ]
  },
  {
   "cell_type": "code",
   "execution_count": 12,
   "id": "5756e2f2",
   "metadata": {},
   "outputs": [],
   "source": [
    "# функция, чтобы сформировать датасет с предсказаниями\n",
    "# startWeekday - параметр, указывающий в какой день недели осуществляется платеж\n",
    "# 1-понельник, 2- вторник, 3- среда, 4-четверг, 5-пятница\n",
    "def MergeVal(y_pred, bu, startWeekday=3):\n",
    "    prev = pd.to_datetime('2021-01-1'+str(startWeekday)) # среда\n",
    "    dfres = pd.DataFrame(columns=['date','sum', 'month', 'bu'])\n",
    "    for i in range(len(y_pred)): # предсказывание на 26 недель\n",
    "        dfres = dfres.append(pd.DataFrame([[prev,y_pred[i],prev.month,bu]], columns=['date', 'sum','month','bu']), ignore_index=True)\n",
    "        prev = prev + timedelta(days=7)\n",
    "    #занулим выходные\n",
    "    dfres.iloc[16,1]=0\n",
    "    #если расчетный день - вторник, то стоит учесть праздник 23 и перенести выплату на субботу\n",
    "    for i in range(dfres.shape[0]):\n",
    "        if dfres.iloc[i,0].day == 23 and dfres.iloc[i,0].month == 2:\n",
    "            dfres.iloc[i,0] = dfres.iloc[i,0] - timedelta(days=3)\n",
    "    return dfres"
   ]
  },
  {
   "cell_type": "code",
   "execution_count": 13,
   "id": "4c959d61",
   "metadata": {},
   "outputs": [],
   "source": [
    "contragent['дата докум.']=pd.to_datetime(contragent['дата докум.'])\n",
    "contragent = contragent.loc[contragent['дата докум.'].dt.year >= 2018]"
   ]
  },
  {
   "cell_type": "code",
   "execution_count": 14,
   "id": "56032678",
   "metadata": {},
   "outputs": [],
   "source": [
    "contragent = contragent.rename(columns={contragent.columns[6]:'date1',\n",
    "                                        contragent.columns[2]:'sum1',\n",
    "                                       contragent.columns[10]:'sum2',\n",
    "                                       contragent.columns[12]:'date2',\n",
    "                                       contragent.columns[13]:'counterparty'})"
   ]
  },
  {
   "cell_type": "code",
   "execution_count": 15,
   "id": "5db58d59",
   "metadata": {},
   "outputs": [],
   "source": [
    "ctragnt_part = contragent[['date1','sum1','date2','sum2','counterparty']]\n",
    "ctragnt_part['date2'] = ctragnt_part['date2'].replace('переплата!!',np.nan)\n",
    "# выкидываем 5-го контрагента\n",
    "ctragnt_part = ctragnt_part[ctragnt_part.counterparty != 5]\n",
    "\n",
    "ctragnt_part['date1'] = pd.to_datetime(ctragnt_part['date1'])\n",
    "ctragnt_part['date2'] = pd.to_datetime(ctragnt_part['date2'])\n",
    "\n",
    "# будем брать данные только до 2021 года\n",
    "ctragnt_part=ctragnt_part[:204]"
   ]
  },
  {
   "cell_type": "code",
   "execution_count": 16,
   "id": "0ded310b",
   "metadata": {},
   "outputs": [
    {
     "data": {
      "text/html": [
       "<div>\n",
       "<style scoped>\n",
       "    .dataframe tbody tr th:only-of-type {\n",
       "        vertical-align: middle;\n",
       "    }\n",
       "\n",
       "    .dataframe tbody tr th {\n",
       "        vertical-align: top;\n",
       "    }\n",
       "\n",
       "    .dataframe thead th {\n",
       "        text-align: right;\n",
       "    }\n",
       "</style>\n",
       "<table border=\"1\" class=\"dataframe\">\n",
       "  <thead>\n",
       "    <tr style=\"text-align: right;\">\n",
       "      <th></th>\n",
       "      <th>date1</th>\n",
       "      <th>sum1</th>\n",
       "      <th>date2</th>\n",
       "      <th>sum2</th>\n",
       "      <th>counterparty</th>\n",
       "    </tr>\n",
       "  </thead>\n",
       "  <tbody>\n",
       "    <tr>\n",
       "      <th>222</th>\n",
       "      <td>2018-01-24</td>\n",
       "      <td>9.327959e+05</td>\n",
       "      <td>2018-02-28</td>\n",
       "      <td>3.675218e+05</td>\n",
       "      <td>3</td>\n",
       "    </tr>\n",
       "    <tr>\n",
       "      <th>229</th>\n",
       "      <td>2018-02-28</td>\n",
       "      <td>8.945079e+05</td>\n",
       "      <td>2018-03-28</td>\n",
       "      <td>3.083955e+05</td>\n",
       "      <td>3</td>\n",
       "    </tr>\n",
       "    <tr>\n",
       "      <th>230</th>\n",
       "      <td>2018-02-14</td>\n",
       "      <td>8.595533e+05</td>\n",
       "      <td>2018-03-28</td>\n",
       "      <td>4.806534e+05</td>\n",
       "      <td>1</td>\n",
       "    </tr>\n",
       "    <tr>\n",
       "      <th>231</th>\n",
       "      <td>2018-02-14</td>\n",
       "      <td>1.642973e+07</td>\n",
       "      <td>2018-03-21</td>\n",
       "      <td>1.482522e+07</td>\n",
       "      <td>2</td>\n",
       "    </tr>\n",
       "    <tr>\n",
       "      <th>232</th>\n",
       "      <td>2018-02-14</td>\n",
       "      <td>3.403519e+06</td>\n",
       "      <td>2018-03-21</td>\n",
       "      <td>4.471233e+06</td>\n",
       "      <td>2</td>\n",
       "    </tr>\n",
       "    <tr>\n",
       "      <th>...</th>\n",
       "      <td>...</td>\n",
       "      <td>...</td>\n",
       "      <td>...</td>\n",
       "      <td>...</td>\n",
       "      <td>...</td>\n",
       "    </tr>\n",
       "    <tr>\n",
       "      <th>457</th>\n",
       "      <td>2020-12-09</td>\n",
       "      <td>9.327949e+05</td>\n",
       "      <td>2021-01-20</td>\n",
       "      <td>1.115893e+06</td>\n",
       "      <td>1</td>\n",
       "    </tr>\n",
       "    <tr>\n",
       "      <th>458</th>\n",
       "      <td>2020-12-09</td>\n",
       "      <td>2.052041e+07</td>\n",
       "      <td>2021-01-20</td>\n",
       "      <td>2.071932e+07</td>\n",
       "      <td>2</td>\n",
       "    </tr>\n",
       "    <tr>\n",
       "      <th>459</th>\n",
       "      <td>2020-12-09</td>\n",
       "      <td>5.517962e+06</td>\n",
       "      <td>2021-01-20</td>\n",
       "      <td>6.739485e+06</td>\n",
       "      <td>2</td>\n",
       "    </tr>\n",
       "    <tr>\n",
       "      <th>460</th>\n",
       "      <td>2020-12-09</td>\n",
       "      <td>2.766757e+07</td>\n",
       "      <td>NaT</td>\n",
       "      <td>1.875116e+07</td>\n",
       "      <td>4</td>\n",
       "    </tr>\n",
       "    <tr>\n",
       "      <th>461</th>\n",
       "      <td>2020-12-16</td>\n",
       "      <td>2.766757e+07</td>\n",
       "      <td>2021-01-27</td>\n",
       "      <td>1.511698e+07</td>\n",
       "      <td>4</td>\n",
       "    </tr>\n",
       "  </tbody>\n",
       "</table>\n",
       "<p>204 rows × 5 columns</p>\n",
       "</div>"
      ],
      "text/plain": [
       "         date1          sum1      date2          sum2  counterparty\n",
       "222 2018-01-24  9.327959e+05 2018-02-28  3.675218e+05             3\n",
       "229 2018-02-28  8.945079e+05 2018-03-28  3.083955e+05             3\n",
       "230 2018-02-14  8.595533e+05 2018-03-28  4.806534e+05             1\n",
       "231 2018-02-14  1.642973e+07 2018-03-21  1.482522e+07             2\n",
       "232 2018-02-14  3.403519e+06 2018-03-21  4.471233e+06             2\n",
       "..         ...           ...        ...           ...           ...\n",
       "457 2020-12-09  9.327949e+05 2021-01-20  1.115893e+06             1\n",
       "458 2020-12-09  2.052041e+07 2021-01-20  2.071932e+07             2\n",
       "459 2020-12-09  5.517962e+06 2021-01-20  6.739485e+06             2\n",
       "460 2020-12-09  2.766757e+07        NaT  1.875116e+07             4\n",
       "461 2020-12-16  2.766757e+07 2021-01-27  1.511698e+07             4\n",
       "\n",
       "[204 rows x 5 columns]"
      ]
     },
     "execution_count": 16,
     "metadata": {},
     "output_type": "execute_result"
    }
   ],
   "source": [
    "ctragnt_part"
   ]
  },
  {
   "cell_type": "markdown",
   "id": "7800bb1c",
   "metadata": {},
   "source": [
    "### В столбце date2 встречаются пропуски - они были восстановлены. Все выплаты произведенные в среду из-за праздников, смещаем на вторник "
   ]
  },
  {
   "cell_type": "code",
   "execution_count": 17,
   "id": "ab1818d3",
   "metadata": {},
   "outputs": [],
   "source": [
    "for i in range(ctragnt_part.shape[0]-1):\n",
    "    ctr1, ctr2 = ctragnt_part.iloc[i,4], ctragnt_part.iloc[i+1,4]\n",
    "    if ctr1 == ctr2 and type(ctragnt_part.iloc[i,2]) == pd._libs.tslibs.nattype.NaTType:\n",
    "        if ctragnt_part.iloc[i,0].month == ctragnt_part.iloc[i+1,0].month:\n",
    "            ctragnt_part.iloc[i,2]=ctragnt_part.iloc[i+1,2]\n",
    "    elif ctr1 == ctr2 and type(ctragnt_part.iloc[i+1,2]) == pd._libs.tslibs.nattype.NaTType:\n",
    "        if ctragnt_part.iloc[i,0].month == ctragnt_part.iloc[i+1,0].month:\n",
    "            ctragnt_part.iloc[i+1,2]=ctragnt_part.iloc[i,2]\n",
    "    if ctragnt_part.iloc[i,0].weekday() == 3:\n",
    "        ctragnt_part.iloc[i,0] = ctragnt_part.iloc[i,0] - timedelta(days=1)"
   ]
  },
  {
   "cell_type": "code",
   "execution_count": 536,
   "id": "21295558",
   "metadata": {},
   "outputs": [],
   "source": [
    "# приведение оплаты к одному знаку\n",
    "train['Сумма в RUB'] = train['Сумма в RUB'].apply(lambda x: x*-1)"
   ]
  },
  {
   "cell_type": "code",
   "execution_count": 19,
   "id": "e2583af3",
   "metadata": {},
   "outputs": [],
   "source": [
    "class ARModel:\n",
    "    def __init__(self, window, model):\n",
    "        self.window = window\n",
    "        self.model = model\n",
    "    \n",
    "    def fit(self, path):\n",
    "        n = path.strides[0]\n",
    "        X = np.lib.stride_tricks.as_strided(\n",
    "            path,\n",
    "            shape=(path.shape[0], self.window),\n",
    "            strides=(n, n),\n",
    "        )[:-self.window]\n",
    "        Y = path[self.window:]\n",
    "        self.history = path[-self.window:].reshape(1, -1)\n",
    "        self.model.fit(X, Y)\n",
    "        \n",
    "    def forecast(self, steps):\n",
    "        history = self.history.copy()\n",
    "        predictions = np.empty(steps)\n",
    "        \n",
    "        for i in range(steps):\n",
    "            y_pred = self.model.predict(history)[0]    \n",
    "            predictions[i] = y_pred\n",
    "            \n",
    "            history[0, :-1] = history[0, 1:]\n",
    "            history[0, -1] = y_pred\n",
    "\n",
    "        return predictions"
   ]
  },
  {
   "cell_type": "code",
   "execution_count": 20,
   "id": "08c6351c",
   "metadata": {},
   "outputs": [],
   "source": [
    "ctragnt_part_ctr = ctragnt_part\n",
    "date1_df=ctragnt_part_ctr[['date1', 'sum1']]\n",
    "date1_df=date1_df.groupby('date1').sum()\n",
    "date1_df=date1_df.sort_index()\n",
    "# keep only payment more 40m\n",
    "date1_df = date1_df[date1_df.sum1 > 40*10**6]\n",
    "# observation: date in [9,15]\n",
    "# let's make feature with predict on 6 value\n"
   ]
  },
  {
   "cell_type": "markdown",
   "id": "b267a9f2",
   "metadata": {},
   "source": [
    "### Разбиение [9,15] -А, [16,23]-а\\счет-ф , [24,31] - счет\\ф    "
   ]
  },
  {
   "cell_type": "code",
   "execution_count": 365,
   "id": "283e162c",
   "metadata": {},
   "outputs": [],
   "source": [
    "# data1 for A\n",
    "ctragnt_part_ctr = ctragnt_part\n",
    "data1=ctragnt_part_ctr[['date1', 'sum1']]\n",
    "data1=data1.groupby('date1').sum()\n",
    "data1=data1.sort_index()\n",
    "\n",
    "# form data1w1, data1w2, data1w3\n",
    "data1 = data1.reset_index()\n",
    "\n",
    "data1w1 = data1.loc[np.logical_and(data1['date1'].dt.day <= 15,9 <= data1['date1'].dt.day)]\n",
    "data1w2 = data1.loc[np.logical_and(data1['date1'].dt.day <= 22,16 <= data1['date1'].dt.day)]\n",
    "data1w3 = data1.loc[np.logical_and(data1['date1'].dt.day <= 29,23 <= data1['date1'].dt.day)]"
   ]
  },
  {
   "cell_type": "code",
   "execution_count": 366,
   "id": "ba9ec40a",
   "metadata": {},
   "outputs": [],
   "source": [
    "# data2 for счет-фактура\n",
    "ctragnt_part_ctr = ctragnt_part\n",
    "data2=ctragnt_part_ctr[['date2', 'sum2']]\n",
    "data2=data2.groupby('date2').sum()\n",
    "data2=data2.sort_index()\n",
    "\n",
    "# form data1w1, data1w2, data1w3\n",
    "data2 = data2.reset_index()\n",
    "\n",
    "data2w1 = data2.loc[np.logical_and(data2['date2'].dt.day <= 15,9 <= data2['date2'].dt.day)]\n",
    "data2w2 = data2.loc[np.logical_and(data2['date2'].dt.day <= 22,16 <= data2['date2'].dt.day)]\n",
    "data2w3 = data2.loc[np.logical_and(data2['date2'].dt.day <= 29,23 <= data2['date2'].dt.day)]"
   ]
  },
  {
   "cell_type": "code",
   "execution_count": 280,
   "id": "0a294eef",
   "metadata": {},
   "outputs": [],
   "source": [
    "def returnDate(year,mth,start_date):\n",
    "    start_date=16\n",
    "    date = str(year)+'-'+str(mth)+'-'+str(start_date)\n",
    "    date = pd.to_datetime(date)\n",
    "    while (date.weekday() != 2):\n",
    "        date = date + timedelta(days=1)\n",
    "    return date"
   ]
  },
  {
   "cell_type": "code",
   "execution_count": 398,
   "id": "f5ef928a",
   "metadata": {},
   "outputs": [],
   "source": [
    "data1w1add=data1w1"
   ]
  },
  {
   "cell_type": "code",
   "execution_count": 368,
   "id": "9d7eef19",
   "metadata": {},
   "outputs": [],
   "source": [
    "# reformating data1w2\n",
    "data1w2add = pd.DataFrame(columns=['date1','sum1'])\n",
    "start_mth=2\n",
    "i=0\n",
    "while i < data1w2.shape[0]:\n",
    "    if data1w2.iloc[i,0].month != start_mth:\n",
    "        date = returnDate(data1w2.iloc[i,0].year,start_mth,16)\n",
    "        data1w2add = data1w2add.append(pd.DataFrame([[date,0]],columns=['date1','sum1']),ignore_index=True)\n",
    "    else:\n",
    "        data1w2add = data1w2add.append(pd.DataFrame([[ data1w2.iloc[i,0], data1w2.iloc[i,1]]],columns=['date1','sum1']),ignore_index=True)\n",
    "        i += 1\n",
    "    start_mth += 1\n",
    "    if start_mth == 13:\n",
    "        start_mth = 1"
   ]
  },
  {
   "cell_type": "code",
   "execution_count": 369,
   "id": "a6193492",
   "metadata": {},
   "outputs": [],
   "source": [
    "# reformating data1w3\n",
    "data1w3add = pd.DataFrame(columns=['date1','sum1'])\n",
    "data1w3 = data1w3.iloc[1:]\n",
    "start_mth=2\n",
    "i=0\n",
    "while i < data1w3.shape[0]:\n",
    "    if data1w3.iloc[i,0].month != start_mth and start_mth != 12:\n",
    "        date = returnDate(data1w3.iloc[i,0].year,start_mth,24)\n",
    "        data1w3add = data1w3add.append(pd.DataFrame([[date,0]],columns=['date1','sum1']),ignore_index=True)\n",
    "    elif data1w3.iloc[i,0].month != start_mth:\n",
    "        date = returnDate(data1w3.iloc[i-1,0].year,start_mth,24)\n",
    "        data1w3add = data1w3add.append(pd.DataFrame([[date,0]],columns=['date1','sum1']),ignore_index=True)\n",
    "    else:\n",
    "        data1w3add = data1w3add.append(pd.DataFrame([[ data1w3.iloc[i,0], data1w3.iloc[i,1]]],columns=['date1','sum1']),ignore_index=True)\n",
    "        i += 1\n",
    "    start_mth += 1\n",
    "    if start_mth == 13:\n",
    "        start_mth = 1"
   ]
  },
  {
   "cell_type": "code",
   "execution_count": 376,
   "id": "85e897e1",
   "metadata": {},
   "outputs": [],
   "source": [
    "# reformating data2w2\n",
    "data2w2add = pd.DataFrame(columns=['date2','sum2'])\n",
    "start_mth=2\n",
    "i=0\n",
    "while i < data2w2.shape[0]:\n",
    "    if data2w2.iloc[i,0].month != start_mth and start_mth != 12:\n",
    "        date = returnDate(data2w2.iloc[i,0].year,start_mth,16)\n",
    "        data2w2add = data2w2add.append(pd.DataFrame([[date,0]],columns=['date2','sum2']),ignore_index=True)\n",
    "    elif data2w2.iloc[i,0].month != start_mth :\n",
    "        date = returnDate(data2w2.iloc[i-1,0].year,start_mth,16)\n",
    "        data2w2add = data2w2add.append(pd.DataFrame([[date,0]],columns=['date2','sum2']),ignore_index=True)  \n",
    "    else:\n",
    "        data2w2add = data2w2add.append(pd.DataFrame([[ data2w2.iloc[i,0], data2w2.iloc[i,1]]],columns=['date2','sum2']),ignore_index=True)\n",
    "        i += 1\n",
    "    start_mth += 1\n",
    "    if start_mth == 13:\n",
    "        start_mth = 1\n",
    "\n",
    "data2w2add.drop(data2w2add.tail(1).index, inplace=True)"
   ]
  },
  {
   "cell_type": "code",
   "execution_count": 378,
   "id": "d703c28e",
   "metadata": {},
   "outputs": [],
   "source": [
    "# reformating data2w3\n",
    "data2w3add = pd.DataFrame(columns=['date2','sum2'])\n",
    "start_mth=2\n",
    "i=0\n",
    "while i < data2w3.shape[0]:\n",
    "    if data2w3.iloc[i,0].month != start_mth:\n",
    "        date = returnDate(data2w3.iloc[i,0].year,start_mth,16)\n",
    "        data2w3add = data2w3add.append(pd.DataFrame([[date,0]],columns=['date2','sum2']),ignore_index=True)\n",
    "    else:\n",
    "        data2w3add = data2w3add.append(pd.DataFrame([[ data2w3.iloc[i,0], data2w3.iloc[i,1]]],columns=['date2','sum2']),ignore_index=True)\n",
    "        i += 1\n",
    "    start_mth += 1\n",
    "    if start_mth == 13:\n",
    "        start_mth = 1\n",
    "data2w3add.drop(data2w3add.tail(1).index, inplace=True)"
   ]
  },
  {
   "cell_type": "code",
   "execution_count": 387,
   "id": "79e603b5",
   "metadata": {},
   "outputs": [
    {
     "name": "stdout",
     "output_type": "stream",
     "text": [
      "2 18919475.65498938\n",
      "3 18603207.488322716\n",
      "4 16155444.654989382\n",
      "5 13714633.132696385\n",
      "6 16001777.738322714\n",
      "7 18642938.54193206\n",
      "8 11435091.800822714\n",
      "9 8002700.696656048\n",
      "10 14067676.488322714\n",
      "11 12222852.238322714\n",
      "12 13474968.071656048\n",
      "13 10453795.821656048\n",
      "14 13203158.425043127\n",
      "15 14207480.404989382\n",
      "16 17873956.15498938\n",
      "17 15129208.988322714\n",
      "18 16725383.488322714\n",
      "19 17589456.15498938\n"
     ]
    }
   ],
   "source": [
    "for lag in range(2,20):\n",
    "    modelXGB = ARModel(\n",
    "        window=lag,\n",
    "        model=Pipeline([\n",
    "            ('scaler', StandardScaler()),\n",
    "            ('ar_model', XGBRegressor(random_state=42)),\n",
    "        ])\n",
    "    )\n",
    "    modelXGB.fit(data2w3add['sum2'].values[:-6])\n",
    "    print(lag,mean_absolute_error(modelXGB.forecast(6),data2w3add['sum2'].values[-6:]))"
   ]
  },
  {
   "cell_type": "markdown",
   "id": "78c73abf",
   "metadata": {},
   "source": [
    "### строим предсказания для каждой фичи на 6 месяцев"
   ]
  },
  {
   "cell_type": "code",
   "execution_count": 389,
   "id": "4b397cf1",
   "metadata": {},
   "outputs": [],
   "source": [
    "def FitFeature(data, lag, c):\n",
    "    modelXGB = ARModel(\n",
    "            window=lag,\n",
    "            model=Pipeline([\n",
    "                ('scaler', StandardScaler()),\n",
    "                ('ar_model', XGBRegressor(random_state=42)),\n",
    "            ])\n",
    "        )\n",
    "    modelXGB.fit(data['sum'+str(c)].values)\n",
    "    return(modelXGB.forecast(6))"
   ]
  },
  {
   "cell_type": "code",
   "execution_count": 391,
   "id": "aa30262a",
   "metadata": {},
   "outputs": [],
   "source": [
    "pred_feature1w1 = FitFeature(data1w1add,10,1)\n",
    "pred_feature1w2 = FitFeature(data1w2add,4,1)\n",
    "pred_feature1w3 = FitFeature(data1w3add,6,1)\n",
    "pred_feature2w2 = FitFeature(data2w2add,7,2)\n",
    "pred_feature2w3 = FitFeature(data2w3add,9,2)"
   ]
  },
  {
   "cell_type": "code",
   "execution_count": 315,
   "id": "296f9538",
   "metadata": {},
   "outputs": [],
   "source": [
    "modelXGB = ARModel(\n",
    "        window=5,\n",
    "        model=Pipeline([\n",
    "            ('scaler', StandardScaler()),\n",
    "            ('ar_model', XGBRegressor(random_state=42)),\n",
    "        ])\n",
    "    )\n",
    "modelXGB.fit(data2w3['sum2'].values)\n",
    "pred_feature2w3 = modelXGB.forecast(6)"
   ]
  },
  {
   "cell_type": "code",
   "execution_count": 396,
   "id": "7536f3ea",
   "metadata": {},
   "outputs": [],
   "source": [
    "# присоедним предикт к фичам\n",
    "def ConcatenatePredict(_data1w1add,c,l,r,_pred_feature1w1):\n",
    "    _data1w1add = _data1w1add.set_index('date'+str(c))\n",
    "    start_date = _data1w1add.index[-1]\n",
    "    _data1w1add=_data1w1add.reset_index()\n",
    "\n",
    "    put6 = 0\n",
    "    while put6 < 6:\n",
    "        start_date = start_date + timedelta(days=7)\n",
    "        if l <= start_date.day <= r:\n",
    "            _data1w1add = _data1w1add.append(pd.DataFrame([[_pred_feature1w1[put6],start_date]], columns=['sum'+str(c),'date'+str(c)]), ignore_index=True)\n",
    "            put6 += 1\n",
    "    return _data1w1add"
   ]
  },
  {
   "cell_type": "code",
   "execution_count": 401,
   "id": "e435c72a",
   "metadata": {},
   "outputs": [],
   "source": [
    "data1w1add=ConcatenatePredict(data1w1add,1,9,15,pred_feature1w1)\n",
    "data1w2add=ConcatenatePredict(data1w2add,1,16,22,pred_feature1w2)\n",
    "data1w3add=ConcatenatePredict(data1w3add,1,23,29,pred_feature1w3)\n",
    "data2w2add=ConcatenatePredict(data2w2add,2,16,22,pred_feature2w2)\n",
    "data2w3add=ConcatenatePredict(data2w3add,2,23,29,pred_feature2w3)"
   ]
  },
  {
   "cell_type": "code",
   "execution_count": 24,
   "id": "7f22737e",
   "metadata": {},
   "outputs": [],
   "source": [
    "def counterpartyPlot(ctr, title=''):\n",
    "    #выплаты северстали\n",
    "    train_align = AlignData(5)\n",
    "    \n",
    "    #ctragnt_part_ctr = ctragnt_part.loc[ctragnt_part['counterparty']==ctr]\n",
    "    ctragnt_part_ctr = ctragnt_part\n",
    "    \n",
    "    date1_df=ctragnt_part_ctr[['date1', 'sum1']]\n",
    "    date1_df=date1_df.groupby('date1').sum()\n",
    "    #date1_df=date1_df.set_index('date1')\n",
    "    date1_df=date1_df.sort_index()\n",
    "    #print(date1_df[:30])\n",
    "    date2_df=ctragnt_part_ctr[['date2', 'sum2']]\n",
    "    date2_df=date2_df.groupby('date2').sum()\n",
    "    #date2_df=date2_df.set_index('date2')\n",
    "    date2_df=date2_df.sort_index()\n",
    "    #print(date2_df[:30])\n",
    "    title1 = {0:\"date1\",1:\"date2\", 2:'train_align'}\n",
    "    data = []\n",
    "    for idx,df in enumerate([date1_df, date2_df, train_align]):\n",
    "        for column in df.columns:\n",
    "            trace = go.Scatter(\n",
    "                x = df.index,\n",
    "                y = df[column],\n",
    "                mode = 'lines',\n",
    "                name = title1[idx]\n",
    "            )\n",
    "            data.append(trace)\n",
    "\n",
    "    layout = dict(title = title)\n",
    "    fig = dict(data = data, layout = layout)\n",
    "    iplot(fig, show_link=False)"
   ]
  },
  {
   "cell_type": "code",
   "execution_count": 25,
   "id": "aad1dfa9",
   "metadata": {},
   "outputs": [
    {
     "data": {
      "application/vnd.plotly.v1+json": {
       "config": {
        "linkText": "Export to plot.ly",
        "plotlyServerURL": "https://plot.ly",
        "showLink": false
       },
       "data": [
        {
         "mode": "lines",
         "name": "date1",
         "type": "scatter",
         "x": [
          "2018-01-24T00:00:00",
          "2018-02-14T00:00:00",
          "2018-02-21T00:00:00",
          "2018-02-28T00:00:00",
          "2018-03-14T00:00:00",
          "2018-03-21T00:00:00",
          "2018-03-28T00:00:00",
          "2018-04-11T00:00:00",
          "2018-04-18T00:00:00",
          "2018-04-25T00:00:00",
          "2018-05-09T00:00:00",
          "2018-05-16T00:00:00",
          "2018-05-23T00:00:00",
          "2018-06-13T00:00:00",
          "2018-06-20T00:00:00",
          "2018-06-27T00:00:00",
          "2018-07-11T00:00:00",
          "2018-07-18T00:00:00",
          "2018-07-25T00:00:00",
          "2018-08-08T00:00:00",
          "2018-08-15T00:00:00",
          "2018-08-29T00:00:00",
          "2018-09-12T00:00:00",
          "2018-09-19T00:00:00",
          "2018-09-26T00:00:00",
          "2018-10-10T00:00:00",
          "2018-10-17T00:00:00",
          "2018-10-24T00:00:00",
          "2018-11-14T00:00:00",
          "2018-11-21T00:00:00",
          "2018-11-28T00:00:00",
          "2018-12-12T00:00:00",
          "2018-12-19T00:00:00",
          "2019-01-09T00:00:00",
          "2019-01-16T00:00:00",
          "2019-01-30T00:00:00",
          "2019-02-13T00:00:00",
          "2019-02-20T00:00:00",
          "2019-03-13T00:00:00",
          "2019-04-10T00:00:00",
          "2019-04-17T00:00:00",
          "2019-04-24T00:00:00",
          "2019-05-08T00:00:00",
          "2019-05-15T00:00:00",
          "2019-05-22T00:00:00",
          "2019-06-12T00:00:00",
          "2019-06-19T00:00:00",
          "2019-07-10T00:00:00",
          "2019-07-17T00:00:00",
          "2019-07-24T00:00:00",
          "2019-08-07T00:00:00",
          "2019-08-14T00:00:00",
          "2019-08-28T00:00:00",
          "2019-09-11T00:00:00",
          "2019-09-18T00:00:00",
          "2019-09-25T00:00:00",
          "2019-10-09T00:00:00",
          "2019-10-16T00:00:00",
          "2019-10-23T00:00:00",
          "2019-11-13T00:00:00",
          "2019-11-20T00:00:00",
          "2019-11-27T00:00:00",
          "2019-12-11T00:00:00",
          "2019-12-18T00:00:00",
          "2020-01-15T00:00:00",
          "2020-01-22T00:00:00",
          "2020-01-29T00:00:00",
          "2020-02-12T00:00:00",
          "2020-02-19T00:00:00",
          "2020-02-26T00:00:00",
          "2020-03-11T00:00:00",
          "2020-03-18T00:00:00",
          "2020-03-25T00:00:00",
          "2020-04-08T00:00:00",
          "2020-04-15T00:00:00",
          "2020-04-29T00:00:00",
          "2020-05-13T00:00:00",
          "2020-05-20T00:00:00",
          "2020-06-10T00:00:00",
          "2020-06-17T00:00:00",
          "2020-07-08T00:00:00",
          "2020-07-15T00:00:00",
          "2020-08-12T00:00:00",
          "2020-08-19T00:00:00",
          "2020-09-09T00:00:00",
          "2020-09-16T00:00:00",
          "2020-09-23T00:00:00",
          "2020-10-07T00:00:00",
          "2020-10-14T00:00:00",
          "2020-10-28T00:00:00",
          "2020-11-11T00:00:00",
          "2020-11-18T00:00:00",
          "2020-12-09T00:00:00",
          "2020-12-16T00:00:00",
          "2020-12-23T00:00:00"
         ],
         "y": [
          932795.8789808915,
          40492893.34394905,
          19800087.04458599,
          894507.8598726115,
          45129691.283439495,
          22496240.24203822,
          910246.566878981,
          42812583.977707,
          20456690.56050955,
          842031.8662420383,
          44058136.35668789,
          21038160.31847133,
          885157.8917197452,
          40975919.96178344,
          20655639.579617836,
          832141.9171974523,
          43868222.601910815,
          19977211.51592356,
          850223.6751592356,
          20749694.60509554,
          44625172.60191082,
          1056972.292993631,
          46190120.74840765,
          22748542.43312102,
          1237569.560509554,
          45172110.99681529,
          21619586.99363057,
          1398889.095541401,
          45181678.89171975,
          21701957.66878981,
          1213383.636942675,
          48734669.00636942,
          22707723.18471337,
          47867159.49044586,
          24152820.968152866,
          1236650.522292994,
          46034729.91719745,
          22454094.47133758,
          70346858.2420382,
          46029239.99681528,
          21822184.86624204,
          930365.9745222928,
          21245955.46496815,
          45106019.79617834,
          887357.6560509555,
          43336938.21656051,
          20605937.57961783,
          45844524.56050956,
          21121455.49044586,
          1215320.382165605,
          21756885.0955414,
          46854668.86305733,
          1877415.433121019,
          49458497.847133756,
          24342764.33121019,
          1707537.152866242,
          52482638.90764331,
          25588664.25477707,
          1520700.636942675,
          50646750.445859864,
          24694247.54140127,
          1500000,
          52465429.22929937,
          26977945.47770701,
          49777885.85350318,
          23948167.89808917,
          1585456.477707006,
          49284348.21337579,
          24217780.51592356,
          1182059.445859873,
          52980975.554140136,
          26287779.02547771,
          1040339.700636943,
          25278464.64968153,
          51432069.05732484,
          949044.5859872611,
          50084999.24203821,
          24626611.56687898,
          47393978.79299363,
          24002770.191082798,
          21991991.57961784,
          47269508.22929937,
          48286963.633757964,
          23184366.80254777,
          51088844.856687896,
          25609667.88535032,
          1422505.305732484,
          25057387.7388535,
          51367116.863057315,
          1561040.337579618,
          52976222.98089173,
          27109736.3566879,
          54638735.10191082,
          27667569.84713376,
          1190552.01910828
         ]
        },
        {
         "mode": "lines",
         "name": "date2",
         "type": "scatter",
         "x": [
          "2018-02-28T00:00:00",
          "2018-03-21T00:00:00",
          "2018-03-28T00:00:00",
          "2018-04-18T00:00:00",
          "2018-04-25T00:00:00",
          "2018-05-23T00:00:00",
          "2018-06-27T00:00:00",
          "2018-07-18T00:00:00",
          "2018-07-25T00:00:00",
          "2018-08-22T00:00:00",
          "2018-08-29T00:00:00",
          "2018-09-19T00:00:00",
          "2018-09-26T00:00:00",
          "2018-10-17T00:00:00",
          "2018-10-24T00:00:00",
          "2018-11-21T00:00:00",
          "2018-11-28T00:00:00",
          "2018-12-19T00:00:00",
          "2018-12-26T00:00:00",
          "2019-01-23T00:00:00",
          "2019-01-30T00:00:00",
          "2019-02-20T00:00:00",
          "2019-02-27T00:00:00",
          "2019-03-20T00:00:00",
          "2019-03-27T00:00:00",
          "2019-04-17T00:00:00",
          "2019-04-24T00:00:00",
          "2019-05-22T00:00:00",
          "2019-06-19T00:00:00",
          "2019-06-26T00:00:00",
          "2019-07-17T00:00:00",
          "2019-07-24T00:00:00",
          "2019-08-21T00:00:00",
          "2019-08-28T00:00:00",
          "2019-09-18T00:00:00",
          "2019-09-25T00:00:00",
          "2019-10-16T00:00:00",
          "2019-10-23T00:00:00",
          "2019-11-20T00:00:00",
          "2019-11-27T00:00:00",
          "2019-12-25T00:00:00",
          "2020-01-22T00:00:00",
          "2020-01-29T00:00:00",
          "2020-02-19T00:00:00",
          "2020-02-26T00:00:00",
          "2020-03-25T00:00:00",
          "2020-04-22T00:00:00",
          "2020-04-29T00:00:00",
          "2020-05-20T00:00:00",
          "2020-05-27T00:00:00",
          "2020-06-17T00:00:00",
          "2020-06-24T00:00:00",
          "2020-07-22T00:00:00",
          "2020-07-29T00:00:00",
          "2020-08-19T00:00:00",
          "2020-08-26T00:00:00",
          "2020-09-16T00:00:00",
          "2020-09-23T00:00:00",
          "2020-10-21T00:00:00",
          "2020-10-28T00:00:00",
          "2020-11-18T00:00:00",
          "2020-11-25T00:00:00",
          "2020-12-16T00:00:00",
          "2020-12-23T00:00:00",
          "2021-01-20T00:00:00",
          "2021-01-27T00:00:00"
         ],
         "y": [
          367521.8025477708,
          19296453.464968145,
          16433267.076433124,
          22457968.668789804,
          16188096.665605089,
          40409664.060509555,
          46034007.050955415,
          21507171.847133756,
          19386005.45222929,
          53193864.13057327,
          917699.1719745224,
          23965301.847133763,
          30048321.805732466,
          23436249.828025468,
          17404409.888535034,
          28707327.82484076,
          36430946.6878981,
          28791928.261146493,
          34373484.36942677,
          64176460.41401276,
          183975.7834394907,
          24094644.38853503,
          29334297.70063693,
          22091476.85350319,
          13135535.605095543,
          24431434.700636946,
          23631696.891719766,
          38272608.665605076,
          23560058.254777063,
          21632497.87898089,
          23748967.54140127,
          25132768.681528658,
          51106844.280254774,
          1265810.159235669,
          23335683.751592353,
          30113264.003184706,
          24160933.076433115,
          24595692.050955415,
          28211417.64649681,
          30409051.668789804,
          59727562.01273883,
          26056817.006369427,
          26134165.15923568,
          25214987.152866248,
          33103311.68152865,
          54024428.72929938,
          45933277.815286614,
          907179.6114649683,
          26502362.63057325,
          22387385.49044586,
          26571062.20382165,
          19817262.38216561,
          42189412.46178344,
          1016501.458598726,
          23222781.050955422,
          36818873.80254775,
          23473842.401273888,
          29323496.58917197,
          31169351.00955414,
          221924.8917197452,
          20929736.662420385,
          28210429.02229298,
          21188869.898089167,
          15760664.089171981,
          28574699.292993627,
          37785345.757961795
         ]
        },
        {
         "mode": "lines",
         "name": "train_align",
         "type": "scatter",
         "x": [
          "2017-01-11T00:00:00",
          "2017-01-18T00:00:00",
          "2017-01-25T00:00:00",
          "2017-02-01T00:00:00",
          "2017-02-08T00:00:00",
          "2017-02-15T00:00:00",
          "2017-02-22T00:00:00",
          "2017-03-01T00:00:00",
          "2017-03-08T00:00:00",
          "2017-03-15T00:00:00",
          "2017-03-22T00:00:00",
          "2017-03-29T00:00:00",
          "2017-04-05T00:00:00",
          "2017-04-12T00:00:00",
          "2017-04-19T00:00:00",
          "2017-04-26T00:00:00",
          "2017-05-03T00:00:00",
          "2017-05-10T00:00:00",
          "2017-05-17T00:00:00",
          "2017-05-24T00:00:00",
          "2017-05-31T00:00:00",
          "2017-06-07T00:00:00",
          "2017-06-14T00:00:00",
          "2017-06-21T00:00:00",
          "2017-06-28T00:00:00",
          "2017-07-05T00:00:00",
          "2017-07-12T00:00:00",
          "2017-07-19T00:00:00",
          "2017-07-26T00:00:00",
          "2017-08-02T00:00:00",
          "2017-08-09T00:00:00",
          "2017-08-16T00:00:00",
          "2017-08-23T00:00:00",
          "2017-08-30T00:00:00",
          "2017-09-06T00:00:00",
          "2017-09-13T00:00:00",
          "2017-09-20T00:00:00",
          "2017-09-27T00:00:00",
          "2017-10-04T00:00:00",
          "2017-10-11T00:00:00",
          "2017-10-18T00:00:00",
          "2017-10-25T00:00:00",
          "2017-11-01T00:00:00",
          "2017-11-08T00:00:00",
          "2017-11-15T00:00:00",
          "2017-11-22T00:00:00",
          "2017-11-29T00:00:00",
          "2017-12-06T00:00:00",
          "2017-12-13T00:00:00",
          "2017-12-20T00:00:00",
          "2017-12-27T00:00:00",
          "2018-01-03T00:00:00",
          "2018-01-10T00:00:00",
          "2018-01-17T00:00:00",
          "2018-01-24T00:00:00",
          "2018-01-31T00:00:00",
          "2018-02-07T00:00:00",
          "2018-02-14T00:00:00",
          "2018-02-21T00:00:00",
          "2018-02-28T00:00:00",
          "2018-03-07T00:00:00",
          "2018-03-14T00:00:00",
          "2018-03-21T00:00:00",
          "2018-03-28T00:00:00",
          "2018-04-04T00:00:00",
          "2018-04-11T00:00:00",
          "2018-04-18T00:00:00",
          "2018-04-25T00:00:00",
          "2018-05-02T00:00:00",
          "2018-05-09T00:00:00",
          "2018-05-16T00:00:00",
          "2018-05-23T00:00:00",
          "2018-05-30T00:00:00",
          "2018-06-06T00:00:00",
          "2018-06-13T00:00:00",
          "2018-06-20T00:00:00",
          "2018-06-27T00:00:00",
          "2018-07-04T00:00:00",
          "2018-07-11T00:00:00",
          "2018-07-18T00:00:00",
          "2018-07-25T00:00:00",
          "2018-08-01T00:00:00",
          "2018-08-08T00:00:00",
          "2018-08-15T00:00:00",
          "2018-08-22T00:00:00",
          "2018-08-29T00:00:00",
          "2018-09-05T00:00:00",
          "2018-09-12T00:00:00",
          "2018-09-19T00:00:00",
          "2018-09-26T00:00:00",
          "2018-10-03T00:00:00",
          "2018-10-10T00:00:00",
          "2018-10-17T00:00:00",
          "2018-10-24T00:00:00",
          "2018-10-31T00:00:00",
          "2018-11-07T00:00:00",
          "2018-11-14T00:00:00",
          "2018-11-21T00:00:00",
          "2018-11-28T00:00:00",
          "2018-12-05T00:00:00",
          "2018-12-12T00:00:00",
          "2018-12-19T00:00:00",
          "2018-12-26T00:00:00",
          "2019-01-02T00:00:00",
          "2019-01-09T00:00:00",
          "2019-01-16T00:00:00",
          "2019-01-23T00:00:00",
          "2019-01-30T00:00:00",
          "2019-02-06T00:00:00",
          "2019-02-13T00:00:00",
          "2019-02-20T00:00:00",
          "2019-02-27T00:00:00",
          "2019-03-06T00:00:00",
          "2019-03-13T00:00:00",
          "2019-03-20T00:00:00",
          "2019-03-27T00:00:00",
          "2019-04-03T00:00:00",
          "2019-04-10T00:00:00",
          "2019-04-17T00:00:00",
          "2019-04-24T00:00:00",
          "2019-05-01T00:00:00",
          "2019-05-08T00:00:00",
          "2019-05-15T00:00:00",
          "2019-05-22T00:00:00",
          "2019-05-29T00:00:00",
          "2019-06-05T00:00:00",
          "2019-06-12T00:00:00",
          "2019-06-19T00:00:00",
          "2019-06-26T00:00:00",
          "2019-07-03T00:00:00",
          "2019-07-10T00:00:00",
          "2019-07-17T00:00:00",
          "2019-07-24T00:00:00",
          "2019-07-31T00:00:00",
          "2019-08-07T00:00:00",
          "2019-08-14T00:00:00",
          "2019-08-21T00:00:00",
          "2019-08-28T00:00:00",
          "2019-09-04T00:00:00",
          "2019-09-11T00:00:00",
          "2019-09-18T00:00:00",
          "2019-09-25T00:00:00",
          "2019-10-02T00:00:00",
          "2019-10-09T00:00:00",
          "2019-10-16T00:00:00",
          "2019-10-23T00:00:00",
          "2019-10-30T00:00:00",
          "2019-11-06T00:00:00",
          "2019-11-13T00:00:00",
          "2019-11-20T00:00:00",
          "2019-11-27T00:00:00",
          "2019-12-04T00:00:00",
          "2019-12-11T00:00:00",
          "2019-12-18T00:00:00",
          "2019-12-25T00:00:00",
          "2020-01-01T00:00:00",
          "2020-01-08T00:00:00",
          "2020-01-15T00:00:00",
          "2020-01-22T00:00:00",
          "2020-01-29T00:00:00",
          "2020-02-05T00:00:00",
          "2020-02-12T00:00:00",
          "2020-02-19T00:00:00",
          "2020-02-26T00:00:00",
          "2020-03-04T00:00:00",
          "2020-03-11T00:00:00",
          "2020-03-18T00:00:00",
          "2020-03-25T00:00:00",
          "2020-04-01T00:00:00",
          "2020-04-08T00:00:00",
          "2020-04-15T00:00:00",
          "2020-04-22T00:00:00",
          "2020-04-29T00:00:00",
          "2020-05-06T00:00:00",
          "2020-05-13T00:00:00",
          "2020-05-20T00:00:00",
          "2020-05-27T00:00:00",
          "2020-06-03T00:00:00",
          "2020-06-10T00:00:00",
          "2020-06-17T00:00:00",
          "2020-06-24T00:00:00",
          "2020-07-01T00:00:00",
          "2020-07-08T00:00:00",
          "2020-07-15T00:00:00",
          "2020-07-22T00:00:00",
          "2020-07-29T00:00:00",
          "2020-08-05T00:00:00",
          "2020-08-12T00:00:00",
          "2020-08-19T00:00:00",
          "2020-08-26T00:00:00",
          "2020-09-02T00:00:00",
          "2020-09-09T00:00:00",
          "2020-09-16T00:00:00",
          "2020-09-23T00:00:00",
          "2020-09-30T00:00:00",
          "2020-10-07T00:00:00",
          "2020-10-14T00:00:00",
          "2020-10-21T00:00:00",
          "2020-10-28T00:00:00",
          "2020-11-04T00:00:00",
          "2020-11-11T00:00:00",
          "2020-11-18T00:00:00",
          "2020-11-25T00:00:00",
          "2020-12-02T00:00:00",
          "2020-12-09T00:00:00",
          "2020-12-16T00:00:00",
          "2020-12-23T00:00:00"
         ],
         "y": [
          44163004.64968152,
          29600464.675159235,
          41897071.56050956,
          0,
          20985539.7133758,
          43735942.28025477,
          94343643.43949044,
          610157.6687898089,
          44052839.050955415,
          21311137.433121014,
          35788704.85987261,
          9521065.388535032,
          23493986.356687896,
          21575253.261146493,
          20798918.08917197,
          39515717.98089172,
          1377501.898089172,
          43854867.7388535,
          22523934.01910828,
          42644523.089171976,
          0,
          21586242.987261143,
          21674455.03184713,
          12826416.82802548,
          52579426.28025478,
          26425774.146496814,
          20610889.649681527,
          43493746.85350318,
          19076696.78343949,
          26992170.07006369,
          22660012.777070064,
          21368874.585987262,
          44973373.63694267,
          0,
          0,
          48824516.75159235,
          22931880.509554137,
          47125339.23566879,
          0,
          48171200.70063694,
          49178601.32484076,
          15874569.363057325,
          0,
          47073507.22929936,
          22540528.414012738,
          51215462.3566879,
          687831.5923566879,
          0,
          50147050.91719745,
          55396774.22292993,
          18603240.222929936,
          0,
          49926350.91719745,
          55667259.34394904,
          14903739.777070062,
          0,
          2201708.617834395,
          51436597.59872612,
          53025043.27388535,
          17943726.515923567,
          0,
          53253035.71337579,
          52889018.031847134,
          10044671.318471337,
          0,
          51477378.63694267,
          56674270.5477707,
          10231795.19745223,
          0,
          51988600.9044586,
          30235506.872611463,
          37585139.75159235,
          65172464.08280254,
          0,
          49310115.10191082,
          27700482.140127387,
          41694330.04458599,
          0,
          52723032.216560505,
          51046979.40127389,
          12645416.43312102,
          0,
          24484639.636942677,
          53616233.22292993,
          48392242.57961783,
          1082885.025477707,
          0,
          55462872.031847134,
          55128280.40127389,
          17590730.719745222,
          0,
          54261620.522292994,
          53165887.44585987,
          11851336.242038216,
          0,
          958529.5477707004,
          53314381.0955414,
          60918403.87261146,
          20336477.363057323,
          0,
          56760950.38853503,
          64075663.91719744,
          59322159.993630566,
          0,
          57440591.38853503,
          30003000.03821656,
          57379257.0955414,
          217091.42675159237,
          0,
          56261290.77707006,
          58898304.91082802,
          16695727.01910828,
          0,
          63063594.71974522,
          54995845.15286624,
          9655354.96178344,
          0,
          56254702.87898089,
          58077002.85350318,
          14900048.382165603,
          0,
          25495146.560509555,
          57179676.63057325,
          37197560.318471335,
          0,
          0,
          55316110.50955414,
          54018809.88535032,
          14673884.19745223,
          0,
          57215847.974522285,
          53844507.63694267,
          17676241.184713375,
          0,
          26108262.114649683,
          57245217.51592357,
          45153851.82165605,
          1524745.7197452227,
          0,
          60369812.29299363,
          57216062.21019108,
          24341059.63694268,
          0,
          63998781.5732484,
          59882149.43312102,
          14567905.62420382,
          0,
          0,
          63271084.66878981,
          63488722.73248407,
          19262963.222929936,
          0,
          67216663.17834395,
          32728575.05732484,
          55633449.66242038,
          0,
          0,
          60977930.53503184,
          60266456.28025477,
          17280426.25477707,
          1070765.9936305734,
          60211983.84713376,
          59344521.26751592,
          21558861.72611465,
          0,
          63577170.66242038,
          31561274.03821656,
          48317329.00636943,
          0,
          30334157.57961783,
          62789248.8598726,
          43077750.050955415,
          1096472.6242038216,
          0,
          61172765.08280255,
          61366645.92993631,
          11858443.68152866,
          849653.4076433121,
          57945465.05095541,
          58950335.484076425,
          13008528.617834397,
          0,
          26390389.89808917,
          57932649.25477707,
          40917147.49681529,
          1219801.757961783,
          0,
          59020683.94267516,
          55690501.93630573,
          23698077.414012738,
          0,
          62309789.64968152,
          58908285.92993631,
          16841621.96178344,
          1145609.6114649682,
          30068865.286624204,
          62733844.89808916,
          33695906.5477707,
          266309.8789808917,
          0,
          63579845.59235668,
          57647367.62420382,
          18901539.286624204,
          0,
          66571582.4522293,
          58627727.69426752,
          12431141.0955414
         ]
        }
       ],
       "layout": {
        "template": {
         "data": {
          "bar": [
           {
            "error_x": {
             "color": "#2a3f5f"
            },
            "error_y": {
             "color": "#2a3f5f"
            },
            "marker": {
             "line": {
              "color": "#E5ECF6",
              "width": 0.5
             },
             "pattern": {
              "fillmode": "overlay",
              "size": 10,
              "solidity": 0.2
             }
            },
            "type": "bar"
           }
          ],
          "barpolar": [
           {
            "marker": {
             "line": {
              "color": "#E5ECF6",
              "width": 0.5
             },
             "pattern": {
              "fillmode": "overlay",
              "size": 10,
              "solidity": 0.2
             }
            },
            "type": "barpolar"
           }
          ],
          "carpet": [
           {
            "aaxis": {
             "endlinecolor": "#2a3f5f",
             "gridcolor": "white",
             "linecolor": "white",
             "minorgridcolor": "white",
             "startlinecolor": "#2a3f5f"
            },
            "baxis": {
             "endlinecolor": "#2a3f5f",
             "gridcolor": "white",
             "linecolor": "white",
             "minorgridcolor": "white",
             "startlinecolor": "#2a3f5f"
            },
            "type": "carpet"
           }
          ],
          "choropleth": [
           {
            "colorbar": {
             "outlinewidth": 0,
             "ticks": ""
            },
            "type": "choropleth"
           }
          ],
          "contour": [
           {
            "colorbar": {
             "outlinewidth": 0,
             "ticks": ""
            },
            "colorscale": [
             [
              0,
              "#0d0887"
             ],
             [
              0.1111111111111111,
              "#46039f"
             ],
             [
              0.2222222222222222,
              "#7201a8"
             ],
             [
              0.3333333333333333,
              "#9c179e"
             ],
             [
              0.4444444444444444,
              "#bd3786"
             ],
             [
              0.5555555555555556,
              "#d8576b"
             ],
             [
              0.6666666666666666,
              "#ed7953"
             ],
             [
              0.7777777777777778,
              "#fb9f3a"
             ],
             [
              0.8888888888888888,
              "#fdca26"
             ],
             [
              1,
              "#f0f921"
             ]
            ],
            "type": "contour"
           }
          ],
          "contourcarpet": [
           {
            "colorbar": {
             "outlinewidth": 0,
             "ticks": ""
            },
            "type": "contourcarpet"
           }
          ],
          "heatmap": [
           {
            "colorbar": {
             "outlinewidth": 0,
             "ticks": ""
            },
            "colorscale": [
             [
              0,
              "#0d0887"
             ],
             [
              0.1111111111111111,
              "#46039f"
             ],
             [
              0.2222222222222222,
              "#7201a8"
             ],
             [
              0.3333333333333333,
              "#9c179e"
             ],
             [
              0.4444444444444444,
              "#bd3786"
             ],
             [
              0.5555555555555556,
              "#d8576b"
             ],
             [
              0.6666666666666666,
              "#ed7953"
             ],
             [
              0.7777777777777778,
              "#fb9f3a"
             ],
             [
              0.8888888888888888,
              "#fdca26"
             ],
             [
              1,
              "#f0f921"
             ]
            ],
            "type": "heatmap"
           }
          ],
          "heatmapgl": [
           {
            "colorbar": {
             "outlinewidth": 0,
             "ticks": ""
            },
            "colorscale": [
             [
              0,
              "#0d0887"
             ],
             [
              0.1111111111111111,
              "#46039f"
             ],
             [
              0.2222222222222222,
              "#7201a8"
             ],
             [
              0.3333333333333333,
              "#9c179e"
             ],
             [
              0.4444444444444444,
              "#bd3786"
             ],
             [
              0.5555555555555556,
              "#d8576b"
             ],
             [
              0.6666666666666666,
              "#ed7953"
             ],
             [
              0.7777777777777778,
              "#fb9f3a"
             ],
             [
              0.8888888888888888,
              "#fdca26"
             ],
             [
              1,
              "#f0f921"
             ]
            ],
            "type": "heatmapgl"
           }
          ],
          "histogram": [
           {
            "marker": {
             "pattern": {
              "fillmode": "overlay",
              "size": 10,
              "solidity": 0.2
             }
            },
            "type": "histogram"
           }
          ],
          "histogram2d": [
           {
            "colorbar": {
             "outlinewidth": 0,
             "ticks": ""
            },
            "colorscale": [
             [
              0,
              "#0d0887"
             ],
             [
              0.1111111111111111,
              "#46039f"
             ],
             [
              0.2222222222222222,
              "#7201a8"
             ],
             [
              0.3333333333333333,
              "#9c179e"
             ],
             [
              0.4444444444444444,
              "#bd3786"
             ],
             [
              0.5555555555555556,
              "#d8576b"
             ],
             [
              0.6666666666666666,
              "#ed7953"
             ],
             [
              0.7777777777777778,
              "#fb9f3a"
             ],
             [
              0.8888888888888888,
              "#fdca26"
             ],
             [
              1,
              "#f0f921"
             ]
            ],
            "type": "histogram2d"
           }
          ],
          "histogram2dcontour": [
           {
            "colorbar": {
             "outlinewidth": 0,
             "ticks": ""
            },
            "colorscale": [
             [
              0,
              "#0d0887"
             ],
             [
              0.1111111111111111,
              "#46039f"
             ],
             [
              0.2222222222222222,
              "#7201a8"
             ],
             [
              0.3333333333333333,
              "#9c179e"
             ],
             [
              0.4444444444444444,
              "#bd3786"
             ],
             [
              0.5555555555555556,
              "#d8576b"
             ],
             [
              0.6666666666666666,
              "#ed7953"
             ],
             [
              0.7777777777777778,
              "#fb9f3a"
             ],
             [
              0.8888888888888888,
              "#fdca26"
             ],
             [
              1,
              "#f0f921"
             ]
            ],
            "type": "histogram2dcontour"
           }
          ],
          "mesh3d": [
           {
            "colorbar": {
             "outlinewidth": 0,
             "ticks": ""
            },
            "type": "mesh3d"
           }
          ],
          "parcoords": [
           {
            "line": {
             "colorbar": {
              "outlinewidth": 0,
              "ticks": ""
             }
            },
            "type": "parcoords"
           }
          ],
          "pie": [
           {
            "automargin": true,
            "type": "pie"
           }
          ],
          "scatter": [
           {
            "marker": {
             "colorbar": {
              "outlinewidth": 0,
              "ticks": ""
             }
            },
            "type": "scatter"
           }
          ],
          "scatter3d": [
           {
            "line": {
             "colorbar": {
              "outlinewidth": 0,
              "ticks": ""
             }
            },
            "marker": {
             "colorbar": {
              "outlinewidth": 0,
              "ticks": ""
             }
            },
            "type": "scatter3d"
           }
          ],
          "scattercarpet": [
           {
            "marker": {
             "colorbar": {
              "outlinewidth": 0,
              "ticks": ""
             }
            },
            "type": "scattercarpet"
           }
          ],
          "scattergeo": [
           {
            "marker": {
             "colorbar": {
              "outlinewidth": 0,
              "ticks": ""
             }
            },
            "type": "scattergeo"
           }
          ],
          "scattergl": [
           {
            "marker": {
             "colorbar": {
              "outlinewidth": 0,
              "ticks": ""
             }
            },
            "type": "scattergl"
           }
          ],
          "scattermapbox": [
           {
            "marker": {
             "colorbar": {
              "outlinewidth": 0,
              "ticks": ""
             }
            },
            "type": "scattermapbox"
           }
          ],
          "scatterpolar": [
           {
            "marker": {
             "colorbar": {
              "outlinewidth": 0,
              "ticks": ""
             }
            },
            "type": "scatterpolar"
           }
          ],
          "scatterpolargl": [
           {
            "marker": {
             "colorbar": {
              "outlinewidth": 0,
              "ticks": ""
             }
            },
            "type": "scatterpolargl"
           }
          ],
          "scatterternary": [
           {
            "marker": {
             "colorbar": {
              "outlinewidth": 0,
              "ticks": ""
             }
            },
            "type": "scatterternary"
           }
          ],
          "surface": [
           {
            "colorbar": {
             "outlinewidth": 0,
             "ticks": ""
            },
            "colorscale": [
             [
              0,
              "#0d0887"
             ],
             [
              0.1111111111111111,
              "#46039f"
             ],
             [
              0.2222222222222222,
              "#7201a8"
             ],
             [
              0.3333333333333333,
              "#9c179e"
             ],
             [
              0.4444444444444444,
              "#bd3786"
             ],
             [
              0.5555555555555556,
              "#d8576b"
             ],
             [
              0.6666666666666666,
              "#ed7953"
             ],
             [
              0.7777777777777778,
              "#fb9f3a"
             ],
             [
              0.8888888888888888,
              "#fdca26"
             ],
             [
              1,
              "#f0f921"
             ]
            ],
            "type": "surface"
           }
          ],
          "table": [
           {
            "cells": {
             "fill": {
              "color": "#EBF0F8"
             },
             "line": {
              "color": "white"
             }
            },
            "header": {
             "fill": {
              "color": "#C8D4E3"
             },
             "line": {
              "color": "white"
             }
            },
            "type": "table"
           }
          ]
         },
         "layout": {
          "annotationdefaults": {
           "arrowcolor": "#2a3f5f",
           "arrowhead": 0,
           "arrowwidth": 1
          },
          "autotypenumbers": "strict",
          "coloraxis": {
           "colorbar": {
            "outlinewidth": 0,
            "ticks": ""
           }
          },
          "colorscale": {
           "diverging": [
            [
             0,
             "#8e0152"
            ],
            [
             0.1,
             "#c51b7d"
            ],
            [
             0.2,
             "#de77ae"
            ],
            [
             0.3,
             "#f1b6da"
            ],
            [
             0.4,
             "#fde0ef"
            ],
            [
             0.5,
             "#f7f7f7"
            ],
            [
             0.6,
             "#e6f5d0"
            ],
            [
             0.7,
             "#b8e186"
            ],
            [
             0.8,
             "#7fbc41"
            ],
            [
             0.9,
             "#4d9221"
            ],
            [
             1,
             "#276419"
            ]
           ],
           "sequential": [
            [
             0,
             "#0d0887"
            ],
            [
             0.1111111111111111,
             "#46039f"
            ],
            [
             0.2222222222222222,
             "#7201a8"
            ],
            [
             0.3333333333333333,
             "#9c179e"
            ],
            [
             0.4444444444444444,
             "#bd3786"
            ],
            [
             0.5555555555555556,
             "#d8576b"
            ],
            [
             0.6666666666666666,
             "#ed7953"
            ],
            [
             0.7777777777777778,
             "#fb9f3a"
            ],
            [
             0.8888888888888888,
             "#fdca26"
            ],
            [
             1,
             "#f0f921"
            ]
           ],
           "sequentialminus": [
            [
             0,
             "#0d0887"
            ],
            [
             0.1111111111111111,
             "#46039f"
            ],
            [
             0.2222222222222222,
             "#7201a8"
            ],
            [
             0.3333333333333333,
             "#9c179e"
            ],
            [
             0.4444444444444444,
             "#bd3786"
            ],
            [
             0.5555555555555556,
             "#d8576b"
            ],
            [
             0.6666666666666666,
             "#ed7953"
            ],
            [
             0.7777777777777778,
             "#fb9f3a"
            ],
            [
             0.8888888888888888,
             "#fdca26"
            ],
            [
             1,
             "#f0f921"
            ]
           ]
          },
          "colorway": [
           "#636efa",
           "#EF553B",
           "#00cc96",
           "#ab63fa",
           "#FFA15A",
           "#19d3f3",
           "#FF6692",
           "#B6E880",
           "#FF97FF",
           "#FECB52"
          ],
          "font": {
           "color": "#2a3f5f"
          },
          "geo": {
           "bgcolor": "white",
           "lakecolor": "white",
           "landcolor": "#E5ECF6",
           "showlakes": true,
           "showland": true,
           "subunitcolor": "white"
          },
          "hoverlabel": {
           "align": "left"
          },
          "hovermode": "closest",
          "mapbox": {
           "style": "light"
          },
          "paper_bgcolor": "white",
          "plot_bgcolor": "#E5ECF6",
          "polar": {
           "angularaxis": {
            "gridcolor": "white",
            "linecolor": "white",
            "ticks": ""
           },
           "bgcolor": "#E5ECF6",
           "radialaxis": {
            "gridcolor": "white",
            "linecolor": "white",
            "ticks": ""
           }
          },
          "scene": {
           "xaxis": {
            "backgroundcolor": "#E5ECF6",
            "gridcolor": "white",
            "gridwidth": 2,
            "linecolor": "white",
            "showbackground": true,
            "ticks": "",
            "zerolinecolor": "white"
           },
           "yaxis": {
            "backgroundcolor": "#E5ECF6",
            "gridcolor": "white",
            "gridwidth": 2,
            "linecolor": "white",
            "showbackground": true,
            "ticks": "",
            "zerolinecolor": "white"
           },
           "zaxis": {
            "backgroundcolor": "#E5ECF6",
            "gridcolor": "white",
            "gridwidth": 2,
            "linecolor": "white",
            "showbackground": true,
            "ticks": "",
            "zerolinecolor": "white"
           }
          },
          "shapedefaults": {
           "line": {
            "color": "#2a3f5f"
           }
          },
          "ternary": {
           "aaxis": {
            "gridcolor": "white",
            "linecolor": "white",
            "ticks": ""
           },
           "baxis": {
            "gridcolor": "white",
            "linecolor": "white",
            "ticks": ""
           },
           "bgcolor": "#E5ECF6",
           "caxis": {
            "gridcolor": "white",
            "linecolor": "white",
            "ticks": ""
           }
          },
          "title": {
           "x": 0.05
          },
          "xaxis": {
           "automargin": true,
           "gridcolor": "white",
           "linecolor": "white",
           "ticks": "",
           "title": {
            "standoff": 15
           },
           "zerolinecolor": "white",
           "zerolinewidth": 2
          },
          "yaxis": {
           "automargin": true,
           "gridcolor": "white",
           "linecolor": "white",
           "ticks": "",
           "title": {
            "standoff": 15
           },
           "zerolinecolor": "white",
           "zerolinewidth": 2
          }
         }
        },
        "title": {
         "text": ""
        }
       }
      },
      "text/html": [
       "<div>                            <div id=\"809feca2-6635-4a1e-a7d6-825829f84774\" class=\"plotly-graph-div\" style=\"height:525px; width:100%;\"></div>            <script type=\"text/javascript\">                require([\"plotly\"], function(Plotly) {                    window.PLOTLYENV=window.PLOTLYENV || {};                                    if (document.getElementById(\"809feca2-6635-4a1e-a7d6-825829f84774\")) {                    Plotly.newPlot(                        \"809feca2-6635-4a1e-a7d6-825829f84774\",                        [{\"mode\":\"lines\",\"name\":\"date1\",\"x\":[\"2018-01-24T00:00:00\",\"2018-02-14T00:00:00\",\"2018-02-21T00:00:00\",\"2018-02-28T00:00:00\",\"2018-03-14T00:00:00\",\"2018-03-21T00:00:00\",\"2018-03-28T00:00:00\",\"2018-04-11T00:00:00\",\"2018-04-18T00:00:00\",\"2018-04-25T00:00:00\",\"2018-05-09T00:00:00\",\"2018-05-16T00:00:00\",\"2018-05-23T00:00:00\",\"2018-06-13T00:00:00\",\"2018-06-20T00:00:00\",\"2018-06-27T00:00:00\",\"2018-07-11T00:00:00\",\"2018-07-18T00:00:00\",\"2018-07-25T00:00:00\",\"2018-08-08T00:00:00\",\"2018-08-15T00:00:00\",\"2018-08-29T00:00:00\",\"2018-09-12T00:00:00\",\"2018-09-19T00:00:00\",\"2018-09-26T00:00:00\",\"2018-10-10T00:00:00\",\"2018-10-17T00:00:00\",\"2018-10-24T00:00:00\",\"2018-11-14T00:00:00\",\"2018-11-21T00:00:00\",\"2018-11-28T00:00:00\",\"2018-12-12T00:00:00\",\"2018-12-19T00:00:00\",\"2019-01-09T00:00:00\",\"2019-01-16T00:00:00\",\"2019-01-30T00:00:00\",\"2019-02-13T00:00:00\",\"2019-02-20T00:00:00\",\"2019-03-13T00:00:00\",\"2019-04-10T00:00:00\",\"2019-04-17T00:00:00\",\"2019-04-24T00:00:00\",\"2019-05-08T00:00:00\",\"2019-05-15T00:00:00\",\"2019-05-22T00:00:00\",\"2019-06-12T00:00:00\",\"2019-06-19T00:00:00\",\"2019-07-10T00:00:00\",\"2019-07-17T00:00:00\",\"2019-07-24T00:00:00\",\"2019-08-07T00:00:00\",\"2019-08-14T00:00:00\",\"2019-08-28T00:00:00\",\"2019-09-11T00:00:00\",\"2019-09-18T00:00:00\",\"2019-09-25T00:00:00\",\"2019-10-09T00:00:00\",\"2019-10-16T00:00:00\",\"2019-10-23T00:00:00\",\"2019-11-13T00:00:00\",\"2019-11-20T00:00:00\",\"2019-11-27T00:00:00\",\"2019-12-11T00:00:00\",\"2019-12-18T00:00:00\",\"2020-01-15T00:00:00\",\"2020-01-22T00:00:00\",\"2020-01-29T00:00:00\",\"2020-02-12T00:00:00\",\"2020-02-19T00:00:00\",\"2020-02-26T00:00:00\",\"2020-03-11T00:00:00\",\"2020-03-18T00:00:00\",\"2020-03-25T00:00:00\",\"2020-04-08T00:00:00\",\"2020-04-15T00:00:00\",\"2020-04-29T00:00:00\",\"2020-05-13T00:00:00\",\"2020-05-20T00:00:00\",\"2020-06-10T00:00:00\",\"2020-06-17T00:00:00\",\"2020-07-08T00:00:00\",\"2020-07-15T00:00:00\",\"2020-08-12T00:00:00\",\"2020-08-19T00:00:00\",\"2020-09-09T00:00:00\",\"2020-09-16T00:00:00\",\"2020-09-23T00:00:00\",\"2020-10-07T00:00:00\",\"2020-10-14T00:00:00\",\"2020-10-28T00:00:00\",\"2020-11-11T00:00:00\",\"2020-11-18T00:00:00\",\"2020-12-09T00:00:00\",\"2020-12-16T00:00:00\",\"2020-12-23T00:00:00\"],\"y\":[932795.8789808915,40492893.34394905,19800087.04458599,894507.8598726115,45129691.283439495,22496240.24203822,910246.566878981,42812583.977707,20456690.56050955,842031.8662420383,44058136.35668789,21038160.31847133,885157.8917197452,40975919.96178344,20655639.579617836,832141.9171974523,43868222.601910815,19977211.51592356,850223.6751592356,20749694.60509554,44625172.60191082,1056972.292993631,46190120.74840765,22748542.43312102,1237569.560509554,45172110.99681529,21619586.99363057,1398889.095541401,45181678.89171975,21701957.66878981,1213383.636942675,48734669.00636942,22707723.18471337,47867159.49044586,24152820.968152866,1236650.522292994,46034729.91719745,22454094.47133758,70346858.2420382,46029239.99681528,21822184.86624204,930365.9745222928,21245955.46496815,45106019.79617834,887357.6560509555,43336938.21656051,20605937.57961783,45844524.56050956,21121455.49044586,1215320.382165605,21756885.0955414,46854668.86305733,1877415.433121019,49458497.847133756,24342764.33121019,1707537.152866242,52482638.90764331,25588664.25477707,1520700.636942675,50646750.445859864,24694247.54140127,1500000.0,52465429.22929937,26977945.47770701,49777885.85350318,23948167.89808917,1585456.477707006,49284348.21337579,24217780.51592356,1182059.445859873,52980975.554140136,26287779.02547771,1040339.700636943,25278464.64968153,51432069.05732484,949044.5859872611,50084999.24203821,24626611.56687898,47393978.79299363,24002770.191082798,21991991.57961784,47269508.22929937,48286963.633757964,23184366.80254777,51088844.856687896,25609667.88535032,1422505.305732484,25057387.7388535,51367116.863057315,1561040.337579618,52976222.98089173,27109736.3566879,54638735.10191082,27667569.84713376,1190552.01910828],\"type\":\"scatter\"},{\"mode\":\"lines\",\"name\":\"date2\",\"x\":[\"2018-02-28T00:00:00\",\"2018-03-21T00:00:00\",\"2018-03-28T00:00:00\",\"2018-04-18T00:00:00\",\"2018-04-25T00:00:00\",\"2018-05-23T00:00:00\",\"2018-06-27T00:00:00\",\"2018-07-18T00:00:00\",\"2018-07-25T00:00:00\",\"2018-08-22T00:00:00\",\"2018-08-29T00:00:00\",\"2018-09-19T00:00:00\",\"2018-09-26T00:00:00\",\"2018-10-17T00:00:00\",\"2018-10-24T00:00:00\",\"2018-11-21T00:00:00\",\"2018-11-28T00:00:00\",\"2018-12-19T00:00:00\",\"2018-12-26T00:00:00\",\"2019-01-23T00:00:00\",\"2019-01-30T00:00:00\",\"2019-02-20T00:00:00\",\"2019-02-27T00:00:00\",\"2019-03-20T00:00:00\",\"2019-03-27T00:00:00\",\"2019-04-17T00:00:00\",\"2019-04-24T00:00:00\",\"2019-05-22T00:00:00\",\"2019-06-19T00:00:00\",\"2019-06-26T00:00:00\",\"2019-07-17T00:00:00\",\"2019-07-24T00:00:00\",\"2019-08-21T00:00:00\",\"2019-08-28T00:00:00\",\"2019-09-18T00:00:00\",\"2019-09-25T00:00:00\",\"2019-10-16T00:00:00\",\"2019-10-23T00:00:00\",\"2019-11-20T00:00:00\",\"2019-11-27T00:00:00\",\"2019-12-25T00:00:00\",\"2020-01-22T00:00:00\",\"2020-01-29T00:00:00\",\"2020-02-19T00:00:00\",\"2020-02-26T00:00:00\",\"2020-03-25T00:00:00\",\"2020-04-22T00:00:00\",\"2020-04-29T00:00:00\",\"2020-05-20T00:00:00\",\"2020-05-27T00:00:00\",\"2020-06-17T00:00:00\",\"2020-06-24T00:00:00\",\"2020-07-22T00:00:00\",\"2020-07-29T00:00:00\",\"2020-08-19T00:00:00\",\"2020-08-26T00:00:00\",\"2020-09-16T00:00:00\",\"2020-09-23T00:00:00\",\"2020-10-21T00:00:00\",\"2020-10-28T00:00:00\",\"2020-11-18T00:00:00\",\"2020-11-25T00:00:00\",\"2020-12-16T00:00:00\",\"2020-12-23T00:00:00\",\"2021-01-20T00:00:00\",\"2021-01-27T00:00:00\"],\"y\":[367521.8025477708,19296453.464968145,16433267.076433124,22457968.668789804,16188096.665605089,40409664.060509555,46034007.050955415,21507171.847133756,19386005.45222929,53193864.13057327,917699.1719745224,23965301.847133763,30048321.805732466,23436249.828025468,17404409.888535034,28707327.82484076,36430946.6878981,28791928.261146493,34373484.36942677,64176460.41401276,183975.7834394907,24094644.38853503,29334297.70063693,22091476.85350319,13135535.605095543,24431434.700636946,23631696.891719766,38272608.665605076,23560058.254777063,21632497.87898089,23748967.54140127,25132768.681528658,51106844.280254774,1265810.159235669,23335683.751592353,30113264.003184706,24160933.076433115,24595692.050955415,28211417.64649681,30409051.668789804,59727562.01273883,26056817.006369427,26134165.15923568,25214987.152866248,33103311.68152865,54024428.72929938,45933277.815286614,907179.6114649683,26502362.63057325,22387385.49044586,26571062.20382165,19817262.38216561,42189412.46178344,1016501.458598726,23222781.050955422,36818873.80254775,23473842.401273888,29323496.58917197,31169351.00955414,221924.8917197452,20929736.662420385,28210429.02229298,21188869.898089167,15760664.089171981,28574699.292993627,37785345.757961795],\"type\":\"scatter\"},{\"mode\":\"lines\",\"name\":\"train_align\",\"x\":[\"2017-01-11T00:00:00\",\"2017-01-18T00:00:00\",\"2017-01-25T00:00:00\",\"2017-02-01T00:00:00\",\"2017-02-08T00:00:00\",\"2017-02-15T00:00:00\",\"2017-02-22T00:00:00\",\"2017-03-01T00:00:00\",\"2017-03-08T00:00:00\",\"2017-03-15T00:00:00\",\"2017-03-22T00:00:00\",\"2017-03-29T00:00:00\",\"2017-04-05T00:00:00\",\"2017-04-12T00:00:00\",\"2017-04-19T00:00:00\",\"2017-04-26T00:00:00\",\"2017-05-03T00:00:00\",\"2017-05-10T00:00:00\",\"2017-05-17T00:00:00\",\"2017-05-24T00:00:00\",\"2017-05-31T00:00:00\",\"2017-06-07T00:00:00\",\"2017-06-14T00:00:00\",\"2017-06-21T00:00:00\",\"2017-06-28T00:00:00\",\"2017-07-05T00:00:00\",\"2017-07-12T00:00:00\",\"2017-07-19T00:00:00\",\"2017-07-26T00:00:00\",\"2017-08-02T00:00:00\",\"2017-08-09T00:00:00\",\"2017-08-16T00:00:00\",\"2017-08-23T00:00:00\",\"2017-08-30T00:00:00\",\"2017-09-06T00:00:00\",\"2017-09-13T00:00:00\",\"2017-09-20T00:00:00\",\"2017-09-27T00:00:00\",\"2017-10-04T00:00:00\",\"2017-10-11T00:00:00\",\"2017-10-18T00:00:00\",\"2017-10-25T00:00:00\",\"2017-11-01T00:00:00\",\"2017-11-08T00:00:00\",\"2017-11-15T00:00:00\",\"2017-11-22T00:00:00\",\"2017-11-29T00:00:00\",\"2017-12-06T00:00:00\",\"2017-12-13T00:00:00\",\"2017-12-20T00:00:00\",\"2017-12-27T00:00:00\",\"2018-01-03T00:00:00\",\"2018-01-10T00:00:00\",\"2018-01-17T00:00:00\",\"2018-01-24T00:00:00\",\"2018-01-31T00:00:00\",\"2018-02-07T00:00:00\",\"2018-02-14T00:00:00\",\"2018-02-21T00:00:00\",\"2018-02-28T00:00:00\",\"2018-03-07T00:00:00\",\"2018-03-14T00:00:00\",\"2018-03-21T00:00:00\",\"2018-03-28T00:00:00\",\"2018-04-04T00:00:00\",\"2018-04-11T00:00:00\",\"2018-04-18T00:00:00\",\"2018-04-25T00:00:00\",\"2018-05-02T00:00:00\",\"2018-05-09T00:00:00\",\"2018-05-16T00:00:00\",\"2018-05-23T00:00:00\",\"2018-05-30T00:00:00\",\"2018-06-06T00:00:00\",\"2018-06-13T00:00:00\",\"2018-06-20T00:00:00\",\"2018-06-27T00:00:00\",\"2018-07-04T00:00:00\",\"2018-07-11T00:00:00\",\"2018-07-18T00:00:00\",\"2018-07-25T00:00:00\",\"2018-08-01T00:00:00\",\"2018-08-08T00:00:00\",\"2018-08-15T00:00:00\",\"2018-08-22T00:00:00\",\"2018-08-29T00:00:00\",\"2018-09-05T00:00:00\",\"2018-09-12T00:00:00\",\"2018-09-19T00:00:00\",\"2018-09-26T00:00:00\",\"2018-10-03T00:00:00\",\"2018-10-10T00:00:00\",\"2018-10-17T00:00:00\",\"2018-10-24T00:00:00\",\"2018-10-31T00:00:00\",\"2018-11-07T00:00:00\",\"2018-11-14T00:00:00\",\"2018-11-21T00:00:00\",\"2018-11-28T00:00:00\",\"2018-12-05T00:00:00\",\"2018-12-12T00:00:00\",\"2018-12-19T00:00:00\",\"2018-12-26T00:00:00\",\"2019-01-02T00:00:00\",\"2019-01-09T00:00:00\",\"2019-01-16T00:00:00\",\"2019-01-23T00:00:00\",\"2019-01-30T00:00:00\",\"2019-02-06T00:00:00\",\"2019-02-13T00:00:00\",\"2019-02-20T00:00:00\",\"2019-02-27T00:00:00\",\"2019-03-06T00:00:00\",\"2019-03-13T00:00:00\",\"2019-03-20T00:00:00\",\"2019-03-27T00:00:00\",\"2019-04-03T00:00:00\",\"2019-04-10T00:00:00\",\"2019-04-17T00:00:00\",\"2019-04-24T00:00:00\",\"2019-05-01T00:00:00\",\"2019-05-08T00:00:00\",\"2019-05-15T00:00:00\",\"2019-05-22T00:00:00\",\"2019-05-29T00:00:00\",\"2019-06-05T00:00:00\",\"2019-06-12T00:00:00\",\"2019-06-19T00:00:00\",\"2019-06-26T00:00:00\",\"2019-07-03T00:00:00\",\"2019-07-10T00:00:00\",\"2019-07-17T00:00:00\",\"2019-07-24T00:00:00\",\"2019-07-31T00:00:00\",\"2019-08-07T00:00:00\",\"2019-08-14T00:00:00\",\"2019-08-21T00:00:00\",\"2019-08-28T00:00:00\",\"2019-09-04T00:00:00\",\"2019-09-11T00:00:00\",\"2019-09-18T00:00:00\",\"2019-09-25T00:00:00\",\"2019-10-02T00:00:00\",\"2019-10-09T00:00:00\",\"2019-10-16T00:00:00\",\"2019-10-23T00:00:00\",\"2019-10-30T00:00:00\",\"2019-11-06T00:00:00\",\"2019-11-13T00:00:00\",\"2019-11-20T00:00:00\",\"2019-11-27T00:00:00\",\"2019-12-04T00:00:00\",\"2019-12-11T00:00:00\",\"2019-12-18T00:00:00\",\"2019-12-25T00:00:00\",\"2020-01-01T00:00:00\",\"2020-01-08T00:00:00\",\"2020-01-15T00:00:00\",\"2020-01-22T00:00:00\",\"2020-01-29T00:00:00\",\"2020-02-05T00:00:00\",\"2020-02-12T00:00:00\",\"2020-02-19T00:00:00\",\"2020-02-26T00:00:00\",\"2020-03-04T00:00:00\",\"2020-03-11T00:00:00\",\"2020-03-18T00:00:00\",\"2020-03-25T00:00:00\",\"2020-04-01T00:00:00\",\"2020-04-08T00:00:00\",\"2020-04-15T00:00:00\",\"2020-04-22T00:00:00\",\"2020-04-29T00:00:00\",\"2020-05-06T00:00:00\",\"2020-05-13T00:00:00\",\"2020-05-20T00:00:00\",\"2020-05-27T00:00:00\",\"2020-06-03T00:00:00\",\"2020-06-10T00:00:00\",\"2020-06-17T00:00:00\",\"2020-06-24T00:00:00\",\"2020-07-01T00:00:00\",\"2020-07-08T00:00:00\",\"2020-07-15T00:00:00\",\"2020-07-22T00:00:00\",\"2020-07-29T00:00:00\",\"2020-08-05T00:00:00\",\"2020-08-12T00:00:00\",\"2020-08-19T00:00:00\",\"2020-08-26T00:00:00\",\"2020-09-02T00:00:00\",\"2020-09-09T00:00:00\",\"2020-09-16T00:00:00\",\"2020-09-23T00:00:00\",\"2020-09-30T00:00:00\",\"2020-10-07T00:00:00\",\"2020-10-14T00:00:00\",\"2020-10-21T00:00:00\",\"2020-10-28T00:00:00\",\"2020-11-04T00:00:00\",\"2020-11-11T00:00:00\",\"2020-11-18T00:00:00\",\"2020-11-25T00:00:00\",\"2020-12-02T00:00:00\",\"2020-12-09T00:00:00\",\"2020-12-16T00:00:00\",\"2020-12-23T00:00:00\"],\"y\":[44163004.64968152,29600464.675159235,41897071.56050956,0.0,20985539.7133758,43735942.28025477,94343643.43949044,610157.6687898089,44052839.050955415,21311137.433121014,35788704.85987261,9521065.388535032,23493986.356687896,21575253.261146493,20798918.08917197,39515717.98089172,1377501.898089172,43854867.7388535,22523934.01910828,42644523.089171976,0.0,21586242.987261143,21674455.03184713,12826416.82802548,52579426.28025478,26425774.146496814,20610889.649681527,43493746.85350318,19076696.78343949,26992170.07006369,22660012.777070064,21368874.585987262,44973373.63694267,0.0,0.0,48824516.75159235,22931880.509554137,47125339.23566879,0.0,48171200.70063694,49178601.32484076,15874569.363057325,0.0,47073507.22929936,22540528.414012738,51215462.3566879,687831.5923566879,0.0,50147050.91719745,55396774.22292993,18603240.222929936,0.0,49926350.91719745,55667259.34394904,14903739.777070062,0.0,2201708.617834395,51436597.59872612,53025043.27388535,17943726.515923567,0.0,53253035.71337579,52889018.031847134,10044671.318471337,0.0,51477378.63694267,56674270.5477707,10231795.19745223,0.0,51988600.9044586,30235506.872611463,37585139.75159235,65172464.08280254,0.0,49310115.10191082,27700482.140127387,41694330.04458599,0.0,52723032.216560505,51046979.40127389,12645416.43312102,0.0,24484639.636942677,53616233.22292993,48392242.57961783,1082885.025477707,0.0,55462872.031847134,55128280.40127389,17590730.719745222,0.0,54261620.522292994,53165887.44585987,11851336.242038216,0.0,958529.5477707004,53314381.0955414,60918403.87261146,20336477.363057323,0.0,56760950.38853503,64075663.91719744,59322159.993630566,0.0,57440591.38853503,30003000.03821656,57379257.0955414,217091.42675159237,0.0,56261290.77707006,58898304.91082802,16695727.01910828,0.0,63063594.71974522,54995845.15286624,9655354.96178344,0.0,56254702.87898089,58077002.85350318,14900048.382165603,0.0,25495146.560509555,57179676.63057325,37197560.318471335,0.0,0.0,55316110.50955414,54018809.88535032,14673884.19745223,0.0,57215847.974522285,53844507.63694267,17676241.184713375,0.0,26108262.114649683,57245217.51592357,45153851.82165605,1524745.7197452227,0.0,60369812.29299363,57216062.21019108,24341059.63694268,0.0,63998781.5732484,59882149.43312102,14567905.62420382,0.0,0.0,63271084.66878981,63488722.73248407,19262963.222929936,0.0,67216663.17834395,32728575.05732484,55633449.66242038,0.0,0.0,60977930.53503184,60266456.28025477,17280426.25477707,1070765.9936305734,60211983.84713376,59344521.26751592,21558861.72611465,0.0,63577170.66242038,31561274.03821656,48317329.00636943,0.0,30334157.57961783,62789248.8598726,43077750.050955415,1096472.6242038216,0.0,61172765.08280255,61366645.92993631,11858443.68152866,849653.4076433121,57945465.05095541,58950335.484076425,13008528.617834397,0.0,26390389.89808917,57932649.25477707,40917147.49681529,1219801.757961783,0.0,59020683.94267516,55690501.93630573,23698077.414012738,0.0,62309789.64968152,58908285.92993631,16841621.96178344,1145609.6114649682,30068865.286624204,62733844.89808916,33695906.5477707,266309.8789808917,0.0,63579845.59235668,57647367.62420382,18901539.286624204,0.0,66571582.4522293,58627727.69426752,12431141.0955414],\"type\":\"scatter\"}],                        {\"template\":{\"data\":{\"barpolar\":[{\"marker\":{\"line\":{\"color\":\"#E5ECF6\",\"width\":0.5},\"pattern\":{\"fillmode\":\"overlay\",\"size\":10,\"solidity\":0.2}},\"type\":\"barpolar\"}],\"bar\":[{\"error_x\":{\"color\":\"#2a3f5f\"},\"error_y\":{\"color\":\"#2a3f5f\"},\"marker\":{\"line\":{\"color\":\"#E5ECF6\",\"width\":0.5},\"pattern\":{\"fillmode\":\"overlay\",\"size\":10,\"solidity\":0.2}},\"type\":\"bar\"}],\"carpet\":[{\"aaxis\":{\"endlinecolor\":\"#2a3f5f\",\"gridcolor\":\"white\",\"linecolor\":\"white\",\"minorgridcolor\":\"white\",\"startlinecolor\":\"#2a3f5f\"},\"baxis\":{\"endlinecolor\":\"#2a3f5f\",\"gridcolor\":\"white\",\"linecolor\":\"white\",\"minorgridcolor\":\"white\",\"startlinecolor\":\"#2a3f5f\"},\"type\":\"carpet\"}],\"choropleth\":[{\"colorbar\":{\"outlinewidth\":0,\"ticks\":\"\"},\"type\":\"choropleth\"}],\"contourcarpet\":[{\"colorbar\":{\"outlinewidth\":0,\"ticks\":\"\"},\"type\":\"contourcarpet\"}],\"contour\":[{\"colorbar\":{\"outlinewidth\":0,\"ticks\":\"\"},\"colorscale\":[[0.0,\"#0d0887\"],[0.1111111111111111,\"#46039f\"],[0.2222222222222222,\"#7201a8\"],[0.3333333333333333,\"#9c179e\"],[0.4444444444444444,\"#bd3786\"],[0.5555555555555556,\"#d8576b\"],[0.6666666666666666,\"#ed7953\"],[0.7777777777777778,\"#fb9f3a\"],[0.8888888888888888,\"#fdca26\"],[1.0,\"#f0f921\"]],\"type\":\"contour\"}],\"heatmapgl\":[{\"colorbar\":{\"outlinewidth\":0,\"ticks\":\"\"},\"colorscale\":[[0.0,\"#0d0887\"],[0.1111111111111111,\"#46039f\"],[0.2222222222222222,\"#7201a8\"],[0.3333333333333333,\"#9c179e\"],[0.4444444444444444,\"#bd3786\"],[0.5555555555555556,\"#d8576b\"],[0.6666666666666666,\"#ed7953\"],[0.7777777777777778,\"#fb9f3a\"],[0.8888888888888888,\"#fdca26\"],[1.0,\"#f0f921\"]],\"type\":\"heatmapgl\"}],\"heatmap\":[{\"colorbar\":{\"outlinewidth\":0,\"ticks\":\"\"},\"colorscale\":[[0.0,\"#0d0887\"],[0.1111111111111111,\"#46039f\"],[0.2222222222222222,\"#7201a8\"],[0.3333333333333333,\"#9c179e\"],[0.4444444444444444,\"#bd3786\"],[0.5555555555555556,\"#d8576b\"],[0.6666666666666666,\"#ed7953\"],[0.7777777777777778,\"#fb9f3a\"],[0.8888888888888888,\"#fdca26\"],[1.0,\"#f0f921\"]],\"type\":\"heatmap\"}],\"histogram2dcontour\":[{\"colorbar\":{\"outlinewidth\":0,\"ticks\":\"\"},\"colorscale\":[[0.0,\"#0d0887\"],[0.1111111111111111,\"#46039f\"],[0.2222222222222222,\"#7201a8\"],[0.3333333333333333,\"#9c179e\"],[0.4444444444444444,\"#bd3786\"],[0.5555555555555556,\"#d8576b\"],[0.6666666666666666,\"#ed7953\"],[0.7777777777777778,\"#fb9f3a\"],[0.8888888888888888,\"#fdca26\"],[1.0,\"#f0f921\"]],\"type\":\"histogram2dcontour\"}],\"histogram2d\":[{\"colorbar\":{\"outlinewidth\":0,\"ticks\":\"\"},\"colorscale\":[[0.0,\"#0d0887\"],[0.1111111111111111,\"#46039f\"],[0.2222222222222222,\"#7201a8\"],[0.3333333333333333,\"#9c179e\"],[0.4444444444444444,\"#bd3786\"],[0.5555555555555556,\"#d8576b\"],[0.6666666666666666,\"#ed7953\"],[0.7777777777777778,\"#fb9f3a\"],[0.8888888888888888,\"#fdca26\"],[1.0,\"#f0f921\"]],\"type\":\"histogram2d\"}],\"histogram\":[{\"marker\":{\"pattern\":{\"fillmode\":\"overlay\",\"size\":10,\"solidity\":0.2}},\"type\":\"histogram\"}],\"mesh3d\":[{\"colorbar\":{\"outlinewidth\":0,\"ticks\":\"\"},\"type\":\"mesh3d\"}],\"parcoords\":[{\"line\":{\"colorbar\":{\"outlinewidth\":0,\"ticks\":\"\"}},\"type\":\"parcoords\"}],\"pie\":[{\"automargin\":true,\"type\":\"pie\"}],\"scatter3d\":[{\"line\":{\"colorbar\":{\"outlinewidth\":0,\"ticks\":\"\"}},\"marker\":{\"colorbar\":{\"outlinewidth\":0,\"ticks\":\"\"}},\"type\":\"scatter3d\"}],\"scattercarpet\":[{\"marker\":{\"colorbar\":{\"outlinewidth\":0,\"ticks\":\"\"}},\"type\":\"scattercarpet\"}],\"scattergeo\":[{\"marker\":{\"colorbar\":{\"outlinewidth\":0,\"ticks\":\"\"}},\"type\":\"scattergeo\"}],\"scattergl\":[{\"marker\":{\"colorbar\":{\"outlinewidth\":0,\"ticks\":\"\"}},\"type\":\"scattergl\"}],\"scattermapbox\":[{\"marker\":{\"colorbar\":{\"outlinewidth\":0,\"ticks\":\"\"}},\"type\":\"scattermapbox\"}],\"scatterpolargl\":[{\"marker\":{\"colorbar\":{\"outlinewidth\":0,\"ticks\":\"\"}},\"type\":\"scatterpolargl\"}],\"scatterpolar\":[{\"marker\":{\"colorbar\":{\"outlinewidth\":0,\"ticks\":\"\"}},\"type\":\"scatterpolar\"}],\"scatter\":[{\"marker\":{\"colorbar\":{\"outlinewidth\":0,\"ticks\":\"\"}},\"type\":\"scatter\"}],\"scatterternary\":[{\"marker\":{\"colorbar\":{\"outlinewidth\":0,\"ticks\":\"\"}},\"type\":\"scatterternary\"}],\"surface\":[{\"colorbar\":{\"outlinewidth\":0,\"ticks\":\"\"},\"colorscale\":[[0.0,\"#0d0887\"],[0.1111111111111111,\"#46039f\"],[0.2222222222222222,\"#7201a8\"],[0.3333333333333333,\"#9c179e\"],[0.4444444444444444,\"#bd3786\"],[0.5555555555555556,\"#d8576b\"],[0.6666666666666666,\"#ed7953\"],[0.7777777777777778,\"#fb9f3a\"],[0.8888888888888888,\"#fdca26\"],[1.0,\"#f0f921\"]],\"type\":\"surface\"}],\"table\":[{\"cells\":{\"fill\":{\"color\":\"#EBF0F8\"},\"line\":{\"color\":\"white\"}},\"header\":{\"fill\":{\"color\":\"#C8D4E3\"},\"line\":{\"color\":\"white\"}},\"type\":\"table\"}]},\"layout\":{\"annotationdefaults\":{\"arrowcolor\":\"#2a3f5f\",\"arrowhead\":0,\"arrowwidth\":1},\"autotypenumbers\":\"strict\",\"coloraxis\":{\"colorbar\":{\"outlinewidth\":0,\"ticks\":\"\"}},\"colorscale\":{\"diverging\":[[0,\"#8e0152\"],[0.1,\"#c51b7d\"],[0.2,\"#de77ae\"],[0.3,\"#f1b6da\"],[0.4,\"#fde0ef\"],[0.5,\"#f7f7f7\"],[0.6,\"#e6f5d0\"],[0.7,\"#b8e186\"],[0.8,\"#7fbc41\"],[0.9,\"#4d9221\"],[1,\"#276419\"]],\"sequential\":[[0.0,\"#0d0887\"],[0.1111111111111111,\"#46039f\"],[0.2222222222222222,\"#7201a8\"],[0.3333333333333333,\"#9c179e\"],[0.4444444444444444,\"#bd3786\"],[0.5555555555555556,\"#d8576b\"],[0.6666666666666666,\"#ed7953\"],[0.7777777777777778,\"#fb9f3a\"],[0.8888888888888888,\"#fdca26\"],[1.0,\"#f0f921\"]],\"sequentialminus\":[[0.0,\"#0d0887\"],[0.1111111111111111,\"#46039f\"],[0.2222222222222222,\"#7201a8\"],[0.3333333333333333,\"#9c179e\"],[0.4444444444444444,\"#bd3786\"],[0.5555555555555556,\"#d8576b\"],[0.6666666666666666,\"#ed7953\"],[0.7777777777777778,\"#fb9f3a\"],[0.8888888888888888,\"#fdca26\"],[1.0,\"#f0f921\"]]},\"colorway\":[\"#636efa\",\"#EF553B\",\"#00cc96\",\"#ab63fa\",\"#FFA15A\",\"#19d3f3\",\"#FF6692\",\"#B6E880\",\"#FF97FF\",\"#FECB52\"],\"font\":{\"color\":\"#2a3f5f\"},\"geo\":{\"bgcolor\":\"white\",\"lakecolor\":\"white\",\"landcolor\":\"#E5ECF6\",\"showlakes\":true,\"showland\":true,\"subunitcolor\":\"white\"},\"hoverlabel\":{\"align\":\"left\"},\"hovermode\":\"closest\",\"mapbox\":{\"style\":\"light\"},\"paper_bgcolor\":\"white\",\"plot_bgcolor\":\"#E5ECF6\",\"polar\":{\"angularaxis\":{\"gridcolor\":\"white\",\"linecolor\":\"white\",\"ticks\":\"\"},\"bgcolor\":\"#E5ECF6\",\"radialaxis\":{\"gridcolor\":\"white\",\"linecolor\":\"white\",\"ticks\":\"\"}},\"scene\":{\"xaxis\":{\"backgroundcolor\":\"#E5ECF6\",\"gridcolor\":\"white\",\"gridwidth\":2,\"linecolor\":\"white\",\"showbackground\":true,\"ticks\":\"\",\"zerolinecolor\":\"white\"},\"yaxis\":{\"backgroundcolor\":\"#E5ECF6\",\"gridcolor\":\"white\",\"gridwidth\":2,\"linecolor\":\"white\",\"showbackground\":true,\"ticks\":\"\",\"zerolinecolor\":\"white\"},\"zaxis\":{\"backgroundcolor\":\"#E5ECF6\",\"gridcolor\":\"white\",\"gridwidth\":2,\"linecolor\":\"white\",\"showbackground\":true,\"ticks\":\"\",\"zerolinecolor\":\"white\"}},\"shapedefaults\":{\"line\":{\"color\":\"#2a3f5f\"}},\"ternary\":{\"aaxis\":{\"gridcolor\":\"white\",\"linecolor\":\"white\",\"ticks\":\"\"},\"baxis\":{\"gridcolor\":\"white\",\"linecolor\":\"white\",\"ticks\":\"\"},\"bgcolor\":\"#E5ECF6\",\"caxis\":{\"gridcolor\":\"white\",\"linecolor\":\"white\",\"ticks\":\"\"}},\"title\":{\"x\":0.05},\"xaxis\":{\"automargin\":true,\"gridcolor\":\"white\",\"linecolor\":\"white\",\"ticks\":\"\",\"title\":{\"standoff\":15},\"zerolinecolor\":\"white\",\"zerolinewidth\":2},\"yaxis\":{\"automargin\":true,\"gridcolor\":\"white\",\"linecolor\":\"white\",\"ticks\":\"\",\"title\":{\"standoff\":15},\"zerolinecolor\":\"white\",\"zerolinewidth\":2}}},\"title\":{\"text\":\"\"}},                        {\"responsive\": true}                    ).then(function(){\n",
       "                            \n",
       "var gd = document.getElementById('809feca2-6635-4a1e-a7d6-825829f84774');\n",
       "var x = new MutationObserver(function (mutations, observer) {{\n",
       "        var display = window.getComputedStyle(gd).display;\n",
       "        if (!display || display === 'none') {{\n",
       "            console.log([gd, 'removed!']);\n",
       "            Plotly.purge(gd);\n",
       "            observer.disconnect();\n",
       "        }}\n",
       "}});\n",
       "\n",
       "// Listen for the removal of the full notebook cells\n",
       "var notebookContainer = gd.closest('#notebook-container');\n",
       "if (notebookContainer) {{\n",
       "    x.observe(notebookContainer, {childList: true});\n",
       "}}\n",
       "\n",
       "// Listen for the clearing of the current output cell\n",
       "var outputEl = gd.closest('.output');\n",
       "if (outputEl) {{\n",
       "    x.observe(outputEl, {childList: true});\n",
       "}}\n",
       "\n",
       "                        })                };                });            </script>        </div>"
      ]
     },
     "metadata": {},
     "output_type": "display_data"
    }
   ],
   "source": [
    "counterpartyPlot(0)"
   ]
  },
  {
   "cell_type": "code",
   "execution_count": 192,
   "id": "512042c0",
   "metadata": {},
   "outputs": [
    {
     "data": {
      "image/png": "[encoded data removed]",
      "text/plain": [
       "<Figure size 1080x504 with 1 Axes>"
      ]
     },
     "metadata": {
      "needs_background": "light"
     },
     "output_type": "display_data"
    }
   ],
   "source": [
    "#5\n",
    "train_align = AlignData(5)\n",
    "model = XGBRegressor() \n",
    "#model = LinearRegression()\n",
    "y_pred, error = MakePlotswithPrediction(train_align=train_align,lag=8, model=model)\n",
    "y_pred = y_pred[2:]\n",
    "dfres5 = MergeVal(y_pred, 5)\n",
    "#PosToZero(dfres5)"
   ]
  },
  {
   "cell_type": "code",
   "execution_count": 539,
   "id": "a9ad92f4",
   "metadata": {},
   "outputs": [],
   "source": [
    "train_align = AlignData(5)\n",
    "train_align = train_align[train_align.index.year > 2017]\n",
    "train_align = train_align.iloc[5:]"
   ]
  },
  {
   "cell_type": "code",
   "execution_count": 540,
   "id": "aa6e4bee",
   "metadata": {},
   "outputs": [],
   "source": [
    "lag_end=8\n",
    "X_trainf, y_train, X_testf, y_test = prepareData(data=train_align,lag_start=1, lag_end=lag_end,test_size=0)\n",
    "\n",
    "X_trainf['date'] = train_align.index[lag_end-1:]"
   ]
  },
  {
   "cell_type": "code",
   "execution_count": 421,
   "id": "17cbede6",
   "metadata": {},
   "outputs": [],
   "source": [
    "def AddMissingVal(date1,c, r):\n",
    "    feature1 = pd.DataFrame([[date1['date'+str(r)].values[0],date1['sum'+str(r)].values[0]]], columns=['date','feature'+str(c)])\n",
    "    feature1=feature1.set_index('date')\n",
    "    start_date = feature1.index[0]\n",
    "    feature1 = feature1.reset_index()\n",
    "    idx = 1\n",
    "    while idx < 41:\n",
    "        start_date = start_date + timedelta(days=7)\n",
    "        if start_date == date1['date'+str(r)].values[idx]:\n",
    "            feature1 = feature1.append(pd.DataFrame([[date1['date'+str(r)].values[idx],date1['sum'+str(r)].values[idx]]], columns=['date','feature'+str(c)]), ignore_index=True)\n",
    "            idx +=1\n",
    "        else:\n",
    "            feature1 = feature1.append(pd.DataFrame([[start_date,0]], columns=['date','feature'+str(c)]), ignore_index=True)\n",
    "    return feature1"
   ]
  },
  {
   "cell_type": "code",
   "execution_count": 504,
   "id": "01949ae5",
   "metadata": {},
   "outputs": [],
   "source": [
    "feature1=AddMissingVal(data1w1add,1,1)\n",
    "feature2=AddMissingVal(data1w2add,2,1)\n",
    "feature3=AddMissingVal(data1w3add,3,1)\n",
    "feature4=AddMissingVal(data2w2add,4,2)\n",
    "feature5=AddMissingVal(data2w3add,5,2)"
   ]
  },
  {
   "cell_type": "code",
   "execution_count": 505,
   "id": "e3d50d9a",
   "metadata": {},
   "outputs": [],
   "source": [
    "# find end index for train\n",
    "feature1_add=feature1[151:]\n",
    "feature2_add=feature2[150:]\n",
    "feature3_add=feature3[149:]\n",
    "feature4_add=feature4[150:]\n",
    "feature5_add=feature5[149:]"
   ]
  },
  {
   "cell_type": "code",
   "execution_count": 506,
   "id": "a97cd3d9",
   "metadata": {},
   "outputs": [],
   "source": [
    "feature1 = feature1.iloc[lag_end-2:151]\n",
    "feature1 = feature1.set_index('date')\n",
    "feature1 = feature1.reset_index()"
   ]
  },
  {
   "cell_type": "code",
   "execution_count": 507,
   "id": "fcfbbbc7",
   "metadata": {},
   "outputs": [],
   "source": [
    "feature2 = feature2.iloc[lag_end-3:150]\n",
    "feature2 = feature2.set_index('date')\n",
    "feature2 = feature2.reset_index()"
   ]
  },
  {
   "cell_type": "code",
   "execution_count": 508,
   "id": "591583ff",
   "metadata": {},
   "outputs": [],
   "source": [
    "feature3 = feature3.iloc[lag_end-4:149]\n",
    "feature3 = feature3.set_index('date')\n",
    "feature3 = feature3.reset_index()"
   ]
  },
  {
   "cell_type": "code",
   "execution_count": 509,
   "id": "93cd055b",
   "metadata": {},
   "outputs": [],
   "source": [
    "feature4 = feature4.iloc[lag_end-3:150]\n",
    "feature4 = feature4.set_index('date')\n",
    "feature4 = feature4.reset_index()"
   ]
  },
  {
   "cell_type": "code",
   "execution_count": 510,
   "id": "804d2bd0",
   "metadata": {},
   "outputs": [],
   "source": [
    "feature5 = feature5.iloc[lag_end-4:149]\n",
    "feature5 = feature5.set_index('date')\n",
    "feature5 = feature5.reset_index()"
   ]
  },
  {
   "cell_type": "code",
   "execution_count": 518,
   "id": "47ffc5a4",
   "metadata": {},
   "outputs": [],
   "source": [
    "# объединим все фитчи с лагами\n",
    "frames = [feature1,feature2,feature3,feature4,feature5,X_trainf]\n",
    "X_trainf = pd.concat(frames, axis=1)\n",
    "X_trainf.drop(['date'], axis=1, inplace=True)"
   ]
  },
  {
   "cell_type": "code",
   "execution_count": 541,
   "id": "c720cbc6",
   "metadata": {},
   "outputs": [],
   "source": [
    "# объединим первую фитчу с лагами\n",
    "frames = [feature1,X_trainf]\n",
    "X_trainf = pd.concat(frames, axis=1)\n",
    "X_trainf.drop(['date'], axis=1, inplace=True)"
   ]
  },
  {
   "cell_type": "code",
   "execution_count": 542,
   "id": "0fef477c",
   "metadata": {},
   "outputs": [
    {
     "data": {
      "text/html": [
       "<div>\n",
       "<style scoped>\n",
       "    .dataframe tbody tr th:only-of-type {\n",
       "        vertical-align: middle;\n",
       "    }\n",
       "\n",
       "    .dataframe tbody tr th {\n",
       "        vertical-align: top;\n",
       "    }\n",
       "\n",
       "    .dataframe thead th {\n",
       "        text-align: right;\n",
       "    }\n",
       "</style>\n",
       "<table border=\"1\" class=\"dataframe\">\n",
       "  <thead>\n",
       "    <tr style=\"text-align: right;\">\n",
       "      <th></th>\n",
       "      <th>feature1</th>\n",
       "      <th>lag_1</th>\n",
       "      <th>lag_2</th>\n",
       "      <th>lag_3</th>\n",
       "      <th>lag_4</th>\n",
       "      <th>lag_5</th>\n",
       "      <th>lag_6</th>\n",
       "      <th>lag_7</th>\n",
       "    </tr>\n",
       "  </thead>\n",
       "  <tbody>\n",
       "    <tr>\n",
       "      <th>0</th>\n",
       "      <td>0.000000e+00</td>\n",
       "      <td>5.288902e+07</td>\n",
       "      <td>5.325304e+07</td>\n",
       "      <td>0.000000e+00</td>\n",
       "      <td>1.794373e+07</td>\n",
       "      <td>5.302504e+07</td>\n",
       "      <td>5.143660e+07</td>\n",
       "      <td>2.201709e+06</td>\n",
       "    </tr>\n",
       "    <tr>\n",
       "      <th>1</th>\n",
       "      <td>0.000000e+00</td>\n",
       "      <td>1.004467e+07</td>\n",
       "      <td>5.288902e+07</td>\n",
       "      <td>5.325304e+07</td>\n",
       "      <td>0.000000e+00</td>\n",
       "      <td>1.794373e+07</td>\n",
       "      <td>5.302504e+07</td>\n",
       "      <td>5.143660e+07</td>\n",
       "    </tr>\n",
       "    <tr>\n",
       "      <th>2</th>\n",
       "      <td>4.281258e+07</td>\n",
       "      <td>0.000000e+00</td>\n",
       "      <td>1.004467e+07</td>\n",
       "      <td>5.288902e+07</td>\n",
       "      <td>5.325304e+07</td>\n",
       "      <td>0.000000e+00</td>\n",
       "      <td>1.794373e+07</td>\n",
       "      <td>5.302504e+07</td>\n",
       "    </tr>\n",
       "    <tr>\n",
       "      <th>3</th>\n",
       "      <td>0.000000e+00</td>\n",
       "      <td>5.147738e+07</td>\n",
       "      <td>0.000000e+00</td>\n",
       "      <td>1.004467e+07</td>\n",
       "      <td>5.288902e+07</td>\n",
       "      <td>5.325304e+07</td>\n",
       "      <td>0.000000e+00</td>\n",
       "      <td>1.794373e+07</td>\n",
       "    </tr>\n",
       "    <tr>\n",
       "      <th>4</th>\n",
       "      <td>0.000000e+00</td>\n",
       "      <td>5.667427e+07</td>\n",
       "      <td>5.147738e+07</td>\n",
       "      <td>0.000000e+00</td>\n",
       "      <td>1.004467e+07</td>\n",
       "      <td>5.288902e+07</td>\n",
       "      <td>5.325304e+07</td>\n",
       "      <td>0.000000e+00</td>\n",
       "    </tr>\n",
       "    <tr>\n",
       "      <th>...</th>\n",
       "      <td>...</td>\n",
       "      <td>...</td>\n",
       "      <td>...</td>\n",
       "      <td>...</td>\n",
       "      <td>...</td>\n",
       "      <td>...</td>\n",
       "      <td>...</td>\n",
       "      <td>...</td>\n",
       "    </tr>\n",
       "    <tr>\n",
       "      <th>140</th>\n",
       "      <td>0.000000e+00</td>\n",
       "      <td>1.890154e+07</td>\n",
       "      <td>5.764737e+07</td>\n",
       "      <td>6.357985e+07</td>\n",
       "      <td>0.000000e+00</td>\n",
       "      <td>2.663099e+05</td>\n",
       "      <td>3.369591e+07</td>\n",
       "      <td>6.273384e+07</td>\n",
       "    </tr>\n",
       "    <tr>\n",
       "      <th>141</th>\n",
       "      <td>5.463874e+07</td>\n",
       "      <td>0.000000e+00</td>\n",
       "      <td>1.890154e+07</td>\n",
       "      <td>5.764737e+07</td>\n",
       "      <td>6.357985e+07</td>\n",
       "      <td>0.000000e+00</td>\n",
       "      <td>2.663099e+05</td>\n",
       "      <td>3.369591e+07</td>\n",
       "    </tr>\n",
       "    <tr>\n",
       "      <th>142</th>\n",
       "      <td>0.000000e+00</td>\n",
       "      <td>6.657158e+07</td>\n",
       "      <td>0.000000e+00</td>\n",
       "      <td>1.890154e+07</td>\n",
       "      <td>5.764737e+07</td>\n",
       "      <td>6.357985e+07</td>\n",
       "      <td>0.000000e+00</td>\n",
       "      <td>2.663099e+05</td>\n",
       "    </tr>\n",
       "    <tr>\n",
       "      <th>143</th>\n",
       "      <td>0.000000e+00</td>\n",
       "      <td>5.862773e+07</td>\n",
       "      <td>6.657158e+07</td>\n",
       "      <td>0.000000e+00</td>\n",
       "      <td>1.890154e+07</td>\n",
       "      <td>5.764737e+07</td>\n",
       "      <td>6.357985e+07</td>\n",
       "      <td>0.000000e+00</td>\n",
       "    </tr>\n",
       "    <tr>\n",
       "      <th>144</th>\n",
       "      <td>0.000000e+00</td>\n",
       "      <td>1.243114e+07</td>\n",
       "      <td>5.862773e+07</td>\n",
       "      <td>6.657158e+07</td>\n",
       "      <td>0.000000e+00</td>\n",
       "      <td>1.890154e+07</td>\n",
       "      <td>5.764737e+07</td>\n",
       "      <td>6.357985e+07</td>\n",
       "    </tr>\n",
       "  </tbody>\n",
       "</table>\n",
       "<p>145 rows × 8 columns</p>\n",
       "</div>"
      ],
      "text/plain": [
       "         feature1         lag_1         lag_2         lag_3         lag_4  \\\n",
       "0    0.000000e+00  5.288902e+07  5.325304e+07  0.000000e+00  1.794373e+07   \n",
       "1    0.000000e+00  1.004467e+07  5.288902e+07  5.325304e+07  0.000000e+00   \n",
       "2    4.281258e+07  0.000000e+00  1.004467e+07  5.288902e+07  5.325304e+07   \n",
       "3    0.000000e+00  5.147738e+07  0.000000e+00  1.004467e+07  5.288902e+07   \n",
       "4    0.000000e+00  5.667427e+07  5.147738e+07  0.000000e+00  1.004467e+07   \n",
       "..            ...           ...           ...           ...           ...   \n",
       "140  0.000000e+00  1.890154e+07  5.764737e+07  6.357985e+07  0.000000e+00   \n",
       "141  5.463874e+07  0.000000e+00  1.890154e+07  5.764737e+07  6.357985e+07   \n",
       "142  0.000000e+00  6.657158e+07  0.000000e+00  1.890154e+07  5.764737e+07   \n",
       "143  0.000000e+00  5.862773e+07  6.657158e+07  0.000000e+00  1.890154e+07   \n",
       "144  0.000000e+00  1.243114e+07  5.862773e+07  6.657158e+07  0.000000e+00   \n",
       "\n",
       "            lag_5         lag_6         lag_7  \n",
       "0    5.302504e+07  5.143660e+07  2.201709e+06  \n",
       "1    1.794373e+07  5.302504e+07  5.143660e+07  \n",
       "2    0.000000e+00  1.794373e+07  5.302504e+07  \n",
       "3    5.325304e+07  0.000000e+00  1.794373e+07  \n",
       "4    5.288902e+07  5.325304e+07  0.000000e+00  \n",
       "..            ...           ...           ...  \n",
       "140  2.663099e+05  3.369591e+07  6.273384e+07  \n",
       "141  0.000000e+00  2.663099e+05  3.369591e+07  \n",
       "142  6.357985e+07  0.000000e+00  2.663099e+05  \n",
       "143  5.764737e+07  6.357985e+07  0.000000e+00  \n",
       "144  1.890154e+07  5.764737e+07  6.357985e+07  \n",
       "\n",
       "[145 rows x 8 columns]"
      ]
     },
     "execution_count": 542,
     "metadata": {},
     "output_type": "execute_result"
    }
   ],
   "source": [
    "X_trainf"
   ]
  },
  {
   "cell_type": "code",
   "execution_count": 521,
   "id": "87fd9ab1",
   "metadata": {},
   "outputs": [],
   "source": [
    "# предсказания для всех фичей\n",
    "lag_start=1\n",
    "cntpred=23\n",
    "X_train_scaled = scaler.fit_transform(X_trainf)\n",
    "\n",
    "y1_pred = y_train[-1:]\n",
    "y_pred = []\n",
    "X_testf = pd.DataFrame(X_trainf[-1:].copy())    \n",
    "for j in range(cntpred):\n",
    "    for i in range(lag_end-2, lag_start-1,-1):\n",
    "        X_testf.iloc[0,5+i]=X_testf.iloc[0,5+i-1]\n",
    "    X_testf.iloc[0,5+0]=y1_pred\n",
    "    # add new feature\n",
    "    X_testf.iloc[0,0] = feature1_add['feature1'].values[j]\n",
    "    X_testf.iloc[0,1] = feature2_add['feature2'].values[j]\n",
    "    X_testf.iloc[0,2] = feature3_add['feature3'].values[j]\n",
    "    X_testf.iloc[0,3] = feature4_add['feature4'].values[j]\n",
    "    X_testf.iloc[0,4] = feature5_add['feature5'].values[j]\n",
    "    \n",
    "    X_test_scaled = scaler.transform(X_testf)\n",
    "    model.fit(X_trainf, y_train)\n",
    "    y1_pred = model.predict(X_testf)[0]\n",
    "    y_pred.append(y1_pred)\n",
    "\n",
    "# занулим значения\n",
    "y_pred = np.array(y_pred)\n",
    "y_pred[y_pred<0]=0"
   ]
  },
  {
   "cell_type": "code",
   "execution_count": 543,
   "id": "714c0f37",
   "metadata": {},
   "outputs": [],
   "source": [
    "# предсказания для первой фичи\n",
    "lag_start=1\n",
    "cntpred=23\n",
    "X_train_scaled = scaler.fit_transform(X_trainf)\n",
    "\n",
    "y1_pred = y_train[-1:]\n",
    "y_pred = []\n",
    "X_testf = pd.DataFrame(X_trainf[-1:].copy())    \n",
    "for j in range(cntpred):\n",
    "    for i in range(lag_end-2, lag_start-1,-1):\n",
    "        X_testf.iloc[0,1+i]=X_testf.iloc[0,1+i-1]\n",
    "    X_testf.iloc[0,1+0]=y1_pred\n",
    "    # add new feature\n",
    "    X_testf.iloc[0,0] = feature1_add['feature1'].values[j]\n",
    "    \n",
    "    X_test_scaled = scaler.transform(X_testf)\n",
    "    model.fit(X_trainf, y_train)\n",
    "    y1_pred = model.predict(X_testf)[0]\n",
    "    y_pred.append(y1_pred)\n",
    "\n",
    "# занулим значения\n",
    "y_pred = np.array(y_pred)\n",
    "y_pred[y_pred<0]=0"
   ]
  },
  {
   "cell_type": "code",
   "execution_count": 546,
   "id": "e8ad6af9",
   "metadata": {},
   "outputs": [],
   "source": [
    "y_pred = y_pred[3:]\n",
    "dfres5f = MergeVal(y_pred, 5)"
   ]
  },
  {
   "cell_type": "code",
   "execution_count": 537,
   "id": "92282ea2",
   "metadata": {},
   "outputs": [],
   "source": [
    "valid_res['Сумма в валюте транзакции'] = valid_res['Сумма в валюте транзакции'].apply(lambda x: x*-1)"
   ]
  },
  {
   "cell_type": "code",
   "execution_count": 530,
   "id": "27b35f59",
   "metadata": {},
   "outputs": [],
   "source": [
    "def comparePredValPlot(title=''):\n",
    "    res_buf = dfres5f\n",
    "    res_buf=res_buf.set_index('date')\n",
    "    res_buf.drop(['month','bu'], axis=1, inplace=True)\n",
    "    \n",
    "    res_bu = dfres5\n",
    "    res_bu=res_bu.set_index('date')\n",
    "    res_bu.drop(['month','bu'], axis=1, inplace=True)\n",
    "    \n",
    "    valid_res_bu = valid_res.loc[valid_res['БЕ']==5]\n",
    "    valid_res_bu=valid_res_bu.rename(columns={valid_res_bu.columns[2]:'Дата'})\n",
    "    valid_res_bu['Дата']=pd.to_datetime(valid_res_bu['Дата'])\n",
    "    valid_res_bu=valid_res_bu.set_index('Дата')\n",
    "    valid_res_bu.drop(['БЕ','Период'], axis=1, inplace=True)\n",
    "    data = []\n",
    "    \n",
    "    train_align = AlignData(5)\n",
    "    train_bu = train_align.iloc[-60:]\n",
    "    #train_bu = train.loc[train['БЕ']==5]\n",
    "    #train_bu = train_bu.iloc[-60:]\n",
    "    #train_bu=train_bu.set_index('Дата транзакции')\n",
    "    #train_bu.drop(['БЕ'], axis=1, inplace=True)\n",
    "    \n",
    "    title1 = {0:\"predf\",1:'pred',2:\"valid\",3:\"train\"}\n",
    "    \n",
    "    for idx,df in enumerate([res_buf,res_bu,valid_res_bu,train_bu]):\n",
    "        for column in df.columns:\n",
    "            trace = go.Scatter(\n",
    "                x = df.index,\n",
    "                y = df[column],\n",
    "                mode = 'lines',\n",
    "                name = title1[idx]\n",
    "            )\n",
    "            data.append(trace)\n",
    "\n",
    "    layout = dict(title = title)\n",
    "    fig = dict(data = data, layout = layout)\n",
    "    iplot(fig, show_link=False)"
   ]
  },
  {
   "cell_type": "code",
   "execution_count": 547,
   "id": "166fcafb",
   "metadata": {},
   "outputs": [
    {
     "data": {
      "application/vnd.plotly.v1+json": {
       "config": {
        "linkText": "Export to plot.ly",
        "plotlyServerURL": "https://plot.ly",
        "showLink": false
       },
       "data": [
        {
         "mode": "lines",
         "name": "predf",
         "type": "scatter",
         "x": [
          "2021-01-13T00:00:00",
          "2021-01-20T00:00:00",
          "2021-01-27T00:00:00",
          "2021-02-03T00:00:00",
          "2021-02-10T00:00:00",
          "2021-02-17T00:00:00",
          "2021-02-24T00:00:00",
          "2021-03-03T00:00:00",
          "2021-03-10T00:00:00",
          "2021-03-17T00:00:00",
          "2021-03-24T00:00:00",
          "2021-03-31T00:00:00",
          "2021-04-07T00:00:00",
          "2021-04-14T00:00:00",
          "2021-04-21T00:00:00",
          "2021-04-28T00:00:00",
          "2021-05-05T00:00:00",
          "2021-05-12T00:00:00"
         ],
         "y": [
          61378132,
          58992316,
          12325117,
          515604.25,
          52931296,
          54108852,
          8054892.5,
          0,
          37306040,
          62926084,
          27053666,
          4106832,
          8163795.5,
          63187512,
          61499940,
          14067041,
          0,
          62205488
         ]
        },
        {
         "mode": "lines",
         "name": "pred",
         "type": "scatter",
         "x": [
          "2021-01-13T00:00:00",
          "2021-01-20T00:00:00",
          "2021-01-27T00:00:00",
          "2021-02-03T00:00:00",
          "2021-02-10T00:00:00",
          "2021-02-17T00:00:00",
          "2021-02-24T00:00:00",
          "2021-03-03T00:00:00",
          "2021-03-10T00:00:00",
          "2021-03-17T00:00:00",
          "2021-03-24T00:00:00",
          "2021-03-31T00:00:00",
          "2021-04-07T00:00:00",
          "2021-04-14T00:00:00",
          "2021-04-21T00:00:00",
          "2021-04-28T00:00:00",
          "2021-05-05T00:00:00",
          "2021-05-12T00:00:00",
          "2021-05-19T00:00:00",
          "2021-05-26T00:00:00",
          "2021-06-02T00:00:00",
          "2021-06-09T00:00:00",
          "2021-06-16T00:00:00",
          "2021-06-23T00:00:00"
         ],
         "y": [
          62964724,
          44768820,
          15895094,
          -342536.03125,
          62502524,
          50928096,
          10740674,
          362367.875,
          56241212,
          51686056,
          14637551,
          600020.5625,
          37886368,
          43053404,
          22854516,
          4322784,
          0,
          52992224,
          26993464,
          17381660,
          36612884,
          55302796,
          17417106,
          25160626
         ]
        },
        {
         "mode": "lines",
         "name": "valid",
         "type": "scatter",
         "x": [
          "2021-01-13T00:00:00",
          "2021-01-20T00:00:00",
          "2021-01-27T00:00:00",
          "2021-02-10T00:00:00",
          "2021-02-17T00:00:00",
          "2021-02-24T00:00:00",
          "2021-03-10T00:00:00",
          "2021-03-17T00:00:00",
          "2021-03-24T00:00:00",
          "2021-03-31T00:00:00"
         ],
         "y": [
          65017315.71337579,
          72797197.9299363,
          23880446.904458597,
          63758532.76433121,
          66195214.27388535,
          24282831.770700637,
          61917574.53503184,
          71412760.63694267,
          16320359.668789808,
          2198931.146496815
         ]
        },
        {
         "mode": "lines",
         "name": "train",
         "type": "scatter",
         "x": [
          "2019-11-13T00:00:00",
          "2019-11-20T00:00:00",
          "2019-11-27T00:00:00",
          "2019-12-04T00:00:00",
          "2019-12-11T00:00:00",
          "2019-12-18T00:00:00",
          "2019-12-25T00:00:00",
          "2020-01-01T00:00:00",
          "2020-01-08T00:00:00",
          "2020-01-15T00:00:00",
          "2020-01-22T00:00:00",
          "2020-01-29T00:00:00",
          "2020-02-05T00:00:00",
          "2020-02-12T00:00:00",
          "2020-02-19T00:00:00",
          "2020-02-26T00:00:00",
          "2020-03-04T00:00:00",
          "2020-03-11T00:00:00",
          "2020-03-18T00:00:00",
          "2020-03-25T00:00:00",
          "2020-04-01T00:00:00",
          "2020-04-08T00:00:00",
          "2020-04-15T00:00:00",
          "2020-04-22T00:00:00",
          "2020-04-29T00:00:00",
          "2020-05-06T00:00:00",
          "2020-05-13T00:00:00",
          "2020-05-20T00:00:00",
          "2020-05-27T00:00:00",
          "2020-06-03T00:00:00",
          "2020-06-10T00:00:00",
          "2020-06-17T00:00:00",
          "2020-06-24T00:00:00",
          "2020-07-01T00:00:00",
          "2020-07-08T00:00:00",
          "2020-07-15T00:00:00",
          "2020-07-22T00:00:00",
          "2020-07-29T00:00:00",
          "2020-08-05T00:00:00",
          "2020-08-12T00:00:00",
          "2020-08-19T00:00:00",
          "2020-08-26T00:00:00",
          "2020-09-02T00:00:00",
          "2020-09-09T00:00:00",
          "2020-09-16T00:00:00",
          "2020-09-23T00:00:00",
          "2020-09-30T00:00:00",
          "2020-10-07T00:00:00",
          "2020-10-14T00:00:00",
          "2020-10-21T00:00:00",
          "2020-10-28T00:00:00",
          "2020-11-04T00:00:00",
          "2020-11-11T00:00:00",
          "2020-11-18T00:00:00",
          "2020-11-25T00:00:00",
          "2020-12-02T00:00:00",
          "2020-12-09T00:00:00",
          "2020-12-16T00:00:00",
          "2020-12-23T00:00:00",
          "2020-12-30T00:00:00"
         ],
         "y": [
          63271084.66878981,
          63488722.73248407,
          19262963.222929936,
          1924.5095541401276,
          67216663.17834395,
          32728575.05732484,
          55633449.66242038,
          0,
          0,
          60977930.53503184,
          60266456.28025477,
          17280426.25477707,
          1070765.9936305734,
          60211983.84713376,
          59344521.26751592,
          21558861.72611465,
          14221.32484076433,
          63577170.66242038,
          31561274.03821656,
          48317329.00636943,
          3849.019108280255,
          30334157.57961783,
          62789248.8598726,
          43077750.050955415,
          1096472.6242038216,
          0,
          61172765.08280255,
          61366645.92993631,
          11858443.68152866,
          849653.4076433121,
          57945465.05095541,
          58950335.484076425,
          13008528.617834397,
          0,
          26390389.89808917,
          57932649.25477707,
          40917147.49681529,
          1219801.757961783,
          0,
          59020683.94267516,
          55690501.93630573,
          23698077.414012738,
          0,
          62309789.64968152,
          58908285.92993631,
          16841621.96178344,
          1145609.6114649682,
          30068865.286624204,
          62733844.89808916,
          33695906.5477707,
          266309.8789808917,
          0,
          63579845.59235668,
          57647367.62420382,
          18901539.286624204,
          0,
          66571582.4522293,
          58627727.69426752,
          12431141.0955414,
          1924.5095541401276
         ]
        }
       ],
       "layout": {
        "template": {
         "data": {
          "bar": [
           {
            "error_x": {
             "color": "#2a3f5f"
            },
            "error_y": {
             "color": "#2a3f5f"
            },
            "marker": {
             "line": {
              "color": "#E5ECF6",
              "width": 0.5
             },
             "pattern": {
              "fillmode": "overlay",
              "size": 10,
              "solidity": 0.2
             }
            },
            "type": "bar"
           }
          ],
          "barpolar": [
           {
            "marker": {
             "line": {
              "color": "#E5ECF6",
              "width": 0.5
             },
             "pattern": {
              "fillmode": "overlay",
              "size": 10,
              "solidity": 0.2
             }
            },
            "type": "barpolar"
           }
          ],
          "carpet": [
           {
            "aaxis": {
             "endlinecolor": "#2a3f5f",
             "gridcolor": "white",
             "linecolor": "white",
             "minorgridcolor": "white",
             "startlinecolor": "#2a3f5f"
            },
            "baxis": {
             "endlinecolor": "#2a3f5f",
             "gridcolor": "white",
             "linecolor": "white",
             "minorgridcolor": "white",
             "startlinecolor": "#2a3f5f"
            },
            "type": "carpet"
           }
          ],
          "choropleth": [
           {
            "colorbar": {
             "outlinewidth": 0,
             "ticks": ""
            },
            "type": "choropleth"
           }
          ],
          "contour": [
           {
            "colorbar": {
             "outlinewidth": 0,
             "ticks": ""
            },
            "colorscale": [
             [
              0,
              "#0d0887"
             ],
             [
              0.1111111111111111,
              "#46039f"
             ],
             [
              0.2222222222222222,
              "#7201a8"
             ],
             [
              0.3333333333333333,
              "#9c179e"
             ],
             [
              0.4444444444444444,
              "#bd3786"
             ],
             [
              0.5555555555555556,
              "#d8576b"
             ],
             [
              0.6666666666666666,
              "#ed7953"
             ],
             [
              0.7777777777777778,
              "#fb9f3a"
             ],
             [
              0.8888888888888888,
              "#fdca26"
             ],
             [
              1,
              "#f0f921"
             ]
            ],
            "type": "contour"
           }
          ],
          "contourcarpet": [
           {
            "colorbar": {
             "outlinewidth": 0,
             "ticks": ""
            },
            "type": "contourcarpet"
           }
          ],
          "heatmap": [
           {
            "colorbar": {
             "outlinewidth": 0,
             "ticks": ""
            },
            "colorscale": [
             [
              0,
              "#0d0887"
             ],
             [
              0.1111111111111111,
              "#46039f"
             ],
             [
              0.2222222222222222,
              "#7201a8"
             ],
             [
              0.3333333333333333,
              "#9c179e"
             ],
             [
              0.4444444444444444,
              "#bd3786"
             ],
             [
              0.5555555555555556,
              "#d8576b"
             ],
             [
              0.6666666666666666,
              "#ed7953"
             ],
             [
              0.7777777777777778,
              "#fb9f3a"
             ],
             [
              0.8888888888888888,
              "#fdca26"
             ],
             [
              1,
              "#f0f921"
             ]
            ],
            "type": "heatmap"
           }
          ],
          "heatmapgl": [
           {
            "colorbar": {
             "outlinewidth": 0,
             "ticks": ""
            },
            "colorscale": [
             [
              0,
              "#0d0887"
             ],
             [
              0.1111111111111111,
              "#46039f"
             ],
             [
              0.2222222222222222,
              "#7201a8"
             ],
             [
              0.3333333333333333,
              "#9c179e"
             ],
             [
              0.4444444444444444,
              "#bd3786"
             ],
             [
              0.5555555555555556,
              "#d8576b"
             ],
             [
              0.6666666666666666,
              "#ed7953"
             ],
             [
              0.7777777777777778,
              "#fb9f3a"
             ],
             [
              0.8888888888888888,
              "#fdca26"
             ],
             [
              1,
              "#f0f921"
             ]
            ],
            "type": "heatmapgl"
           }
          ],
          "histogram": [
           {
            "marker": {
             "pattern": {
              "fillmode": "overlay",
              "size": 10,
              "solidity": 0.2
             }
            },
            "type": "histogram"
           }
          ],
          "histogram2d": [
           {
            "colorbar": {
             "outlinewidth": 0,
             "ticks": ""
            },
            "colorscale": [
             [
              0,
              "#0d0887"
             ],
             [
              0.1111111111111111,
              "#46039f"
             ],
             [
              0.2222222222222222,
              "#7201a8"
             ],
             [
              0.3333333333333333,
              "#9c179e"
             ],
             [
              0.4444444444444444,
              "#bd3786"
             ],
             [
              0.5555555555555556,
              "#d8576b"
             ],
             [
              0.6666666666666666,
              "#ed7953"
             ],
             [
              0.7777777777777778,
              "#fb9f3a"
             ],
             [
              0.8888888888888888,
              "#fdca26"
             ],
             [
              1,
              "#f0f921"
             ]
            ],
            "type": "histogram2d"
           }
          ],
          "histogram2dcontour": [
           {
            "colorbar": {
             "outlinewidth": 0,
             "ticks": ""
            },
            "colorscale": [
             [
              0,
              "#0d0887"
             ],
             [
              0.1111111111111111,
              "#46039f"
             ],
             [
              0.2222222222222222,
              "#7201a8"
             ],
             [
              0.3333333333333333,
              "#9c179e"
             ],
             [
              0.4444444444444444,
              "#bd3786"
             ],
             [
              0.5555555555555556,
              "#d8576b"
             ],
             [
              0.6666666666666666,
              "#ed7953"
             ],
             [
              0.7777777777777778,
              "#fb9f3a"
             ],
             [
              0.8888888888888888,
              "#fdca26"
             ],
             [
              1,
              "#f0f921"
             ]
            ],
            "type": "histogram2dcontour"
           }
          ],
          "mesh3d": [
           {
            "colorbar": {
             "outlinewidth": 0,
             "ticks": ""
            },
            "type": "mesh3d"
           }
          ],
          "parcoords": [
           {
            "line": {
             "colorbar": {
              "outlinewidth": 0,
              "ticks": ""
             }
            },
            "type": "parcoords"
           }
          ],
          "pie": [
           {
            "automargin": true,
            "type": "pie"
           }
          ],
          "scatter": [
           {
            "marker": {
             "colorbar": {
              "outlinewidth": 0,
              "ticks": ""
             }
            },
            "type": "scatter"
           }
          ],
          "scatter3d": [
           {
            "line": {
             "colorbar": {
              "outlinewidth": 0,
              "ticks": ""
             }
            },
            "marker": {
             "colorbar": {
              "outlinewidth": 0,
              "ticks": ""
             }
            },
            "type": "scatter3d"
           }
          ],
          "scattercarpet": [
           {
            "marker": {
             "colorbar": {
              "outlinewidth": 0,
              "ticks": ""
             }
            },
            "type": "scattercarpet"
           }
          ],
          "scattergeo": [
           {
            "marker": {
             "colorbar": {
              "outlinewidth": 0,
              "ticks": ""
             }
            },
            "type": "scattergeo"
           }
          ],
          "scattergl": [
           {
            "marker": {
             "colorbar": {
              "outlinewidth": 0,
              "ticks": ""
             }
            },
            "type": "scattergl"
           }
          ],
          "scattermapbox": [
           {
            "marker": {
             "colorbar": {
              "outlinewidth": 0,
              "ticks": ""
             }
            },
            "type": "scattermapbox"
           }
          ],
          "scatterpolar": [
           {
            "marker": {
             "colorbar": {
              "outlinewidth": 0,
              "ticks": ""
             }
            },
            "type": "scatterpolar"
           }
          ],
          "scatterpolargl": [
           {
            "marker": {
             "colorbar": {
              "outlinewidth": 0,
              "ticks": ""
             }
            },
            "type": "scatterpolargl"
           }
          ],
          "scatterternary": [
           {
            "marker": {
             "colorbar": {
              "outlinewidth": 0,
              "ticks": ""
             }
            },
            "type": "scatterternary"
           }
          ],
          "surface": [
           {
            "colorbar": {
             "outlinewidth": 0,
             "ticks": ""
            },
            "colorscale": [
             [
              0,
              "#0d0887"
             ],
             [
              0.1111111111111111,
              "#46039f"
             ],
             [
              0.2222222222222222,
              "#7201a8"
             ],
             [
              0.3333333333333333,
              "#9c179e"
             ],
             [
              0.4444444444444444,
              "#bd3786"
             ],
             [
              0.5555555555555556,
              "#d8576b"
             ],
             [
              0.6666666666666666,
              "#ed7953"
             ],
             [
              0.7777777777777778,
              "#fb9f3a"
             ],
             [
              0.8888888888888888,
              "#fdca26"
             ],
             [
              1,
              "#f0f921"
             ]
            ],
            "type": "surface"
           }
          ],
          "table": [
           {
            "cells": {
             "fill": {
              "color": "#EBF0F8"
             },
             "line": {
              "color": "white"
             }
            },
            "header": {
             "fill": {
              "color": "#C8D4E3"
             },
             "line": {
              "color": "white"
             }
            },
            "type": "table"
           }
          ]
         },
         "layout": {
          "annotationdefaults": {
           "arrowcolor": "#2a3f5f",
           "arrowhead": 0,
           "arrowwidth": 1
          },
          "autotypenumbers": "strict",
          "coloraxis": {
           "colorbar": {
            "outlinewidth": 0,
            "ticks": ""
           }
          },
          "colorscale": {
           "diverging": [
            [
             0,
             "#8e0152"
            ],
            [
             0.1,
             "#c51b7d"
            ],
            [
             0.2,
             "#de77ae"
            ],
            [
             0.3,
             "#f1b6da"
            ],
            [
             0.4,
             "#fde0ef"
            ],
            [
             0.5,
             "#f7f7f7"
            ],
            [
             0.6,
             "#e6f5d0"
            ],
            [
             0.7,
             "#b8e186"
            ],
            [
             0.8,
             "#7fbc41"
            ],
            [
             0.9,
             "#4d9221"
            ],
            [
             1,
             "#276419"
            ]
           ],
           "sequential": [
            [
             0,
             "#0d0887"
            ],
            [
             0.1111111111111111,
             "#46039f"
            ],
            [
             0.2222222222222222,
             "#7201a8"
            ],
            [
             0.3333333333333333,
             "#9c179e"
            ],
            [
             0.4444444444444444,
             "#bd3786"
            ],
            [
             0.5555555555555556,
             "#d8576b"
            ],
            [
             0.6666666666666666,
             "#ed7953"
            ],
            [
             0.7777777777777778,
             "#fb9f3a"
            ],
            [
             0.8888888888888888,
             "#fdca26"
            ],
            [
             1,
             "#f0f921"
            ]
           ],
           "sequentialminus": [
            [
             0,
             "#0d0887"
            ],
            [
             0.1111111111111111,
             "#46039f"
            ],
            [
             0.2222222222222222,
             "#7201a8"
            ],
            [
             0.3333333333333333,
             "#9c179e"
            ],
            [
             0.4444444444444444,
             "#bd3786"
            ],
            [
             0.5555555555555556,
             "#d8576b"
            ],
            [
             0.6666666666666666,
             "#ed7953"
            ],
            [
             0.7777777777777778,
             "#fb9f3a"
            ],
            [
             0.8888888888888888,
             "#fdca26"
            ],
            [
             1,
             "#f0f921"
            ]
           ]
          },
          "colorway": [
           "#636efa",
           "#EF553B",
           "#00cc96",
           "#ab63fa",
           "#FFA15A",
           "#19d3f3",
           "#FF6692",
           "#B6E880",
           "#FF97FF",
           "#FECB52"
          ],
          "font": {
           "color": "#2a3f5f"
          },
          "geo": {
           "bgcolor": "white",
           "lakecolor": "white",
           "landcolor": "#E5ECF6",
           "showlakes": true,
           "showland": true,
           "subunitcolor": "white"
          },
          "hoverlabel": {
           "align": "left"
          },
          "hovermode": "closest",
          "mapbox": {
           "style": "light"
          },
          "paper_bgcolor": "white",
          "plot_bgcolor": "#E5ECF6",
          "polar": {
           "angularaxis": {
            "gridcolor": "white",
            "linecolor": "white",
            "ticks": ""
           },
           "bgcolor": "#E5ECF6",
           "radialaxis": {
            "gridcolor": "white",
            "linecolor": "white",
            "ticks": ""
           }
          },
          "scene": {
           "xaxis": {
            "backgroundcolor": "#E5ECF6",
            "gridcolor": "white",
            "gridwidth": 2,
            "linecolor": "white",
            "showbackground": true,
            "ticks": "",
            "zerolinecolor": "white"
           },
           "yaxis": {
            "backgroundcolor": "#E5ECF6",
            "gridcolor": "white",
            "gridwidth": 2,
            "linecolor": "white",
            "showbackground": true,
            "ticks": "",
            "zerolinecolor": "white"
           },
           "zaxis": {
            "backgroundcolor": "#E5ECF6",
            "gridcolor": "white",
            "gridwidth": 2,
            "linecolor": "white",
            "showbackground": true,
            "ticks": "",
            "zerolinecolor": "white"
           }
          },
          "shapedefaults": {
           "line": {
            "color": "#2a3f5f"
           }
          },
          "ternary": {
           "aaxis": {
            "gridcolor": "white",
            "linecolor": "white",
            "ticks": ""
           },
           "baxis": {
            "gridcolor": "white",
            "linecolor": "white",
            "ticks": ""
           },
           "bgcolor": "#E5ECF6",
           "caxis": {
            "gridcolor": "white",
            "linecolor": "white",
            "ticks": ""
           }
          },
          "title": {
           "x": 0.05
          },
          "xaxis": {
           "automargin": true,
           "gridcolor": "white",
           "linecolor": "white",
           "ticks": "",
           "title": {
            "standoff": 15
           },
           "zerolinecolor": "white",
           "zerolinewidth": 2
          },
          "yaxis": {
           "automargin": true,
           "gridcolor": "white",
           "linecolor": "white",
           "ticks": "",
           "title": {
            "standoff": 15
           },
           "zerolinecolor": "white",
           "zerolinewidth": 2
          }
         }
        },
        "title": {
         "text": ""
        }
       }
      },
      "text/html": [
       "<div>                            <div id=\"95cb968f-780b-4d48-b2dc-8d96430d1d5f\" class=\"plotly-graph-div\" style=\"height:525px; width:100%;\"></div>            <script type=\"text/javascript\">                require([\"plotly\"], function(Plotly) {                    window.PLOTLYENV=window.PLOTLYENV || {};                                    if (document.getElementById(\"95cb968f-780b-4d48-b2dc-8d96430d1d5f\")) {                    Plotly.newPlot(                        \"95cb968f-780b-4d48-b2dc-8d96430d1d5f\",                        [{\"mode\":\"lines\",\"name\":\"predf\",\"x\":[\"2021-01-13T00:00:00\",\"2021-01-20T00:00:00\",\"2021-01-27T00:00:00\",\"2021-02-03T00:00:00\",\"2021-02-10T00:00:00\",\"2021-02-17T00:00:00\",\"2021-02-24T00:00:00\",\"2021-03-03T00:00:00\",\"2021-03-10T00:00:00\",\"2021-03-17T00:00:00\",\"2021-03-24T00:00:00\",\"2021-03-31T00:00:00\",\"2021-04-07T00:00:00\",\"2021-04-14T00:00:00\",\"2021-04-21T00:00:00\",\"2021-04-28T00:00:00\",\"2021-05-05T00:00:00\",\"2021-05-12T00:00:00\"],\"y\":[61378132.0,58992316.0,12325117.0,515604.25,52931296.0,54108852.0,8054892.5,0.0,37306040.0,62926084.0,27053666.0,4106832.0,8163795.5,63187512.0,61499940.0,14067041.0,0.0,62205488.0],\"type\":\"scatter\"},{\"mode\":\"lines\",\"name\":\"pred\",\"x\":[\"2021-01-13T00:00:00\",\"2021-01-20T00:00:00\",\"2021-01-27T00:00:00\",\"2021-02-03T00:00:00\",\"2021-02-10T00:00:00\",\"2021-02-17T00:00:00\",\"2021-02-24T00:00:00\",\"2021-03-03T00:00:00\",\"2021-03-10T00:00:00\",\"2021-03-17T00:00:00\",\"2021-03-24T00:00:00\",\"2021-03-31T00:00:00\",\"2021-04-07T00:00:00\",\"2021-04-14T00:00:00\",\"2021-04-21T00:00:00\",\"2021-04-28T00:00:00\",\"2021-05-05T00:00:00\",\"2021-05-12T00:00:00\",\"2021-05-19T00:00:00\",\"2021-05-26T00:00:00\",\"2021-06-02T00:00:00\",\"2021-06-09T00:00:00\",\"2021-06-16T00:00:00\",\"2021-06-23T00:00:00\"],\"y\":[62964724.0,44768820.0,15895094.0,-342536.03125,62502524.0,50928096.0,10740674.0,362367.875,56241212.0,51686056.0,14637551.0,600020.5625,37886368.0,43053404.0,22854516.0,4322784.0,0.0,52992224.0,26993464.0,17381660.0,36612884.0,55302796.0,17417106.0,25160626.0],\"type\":\"scatter\"},{\"mode\":\"lines\",\"name\":\"valid\",\"x\":[\"2021-01-13T00:00:00\",\"2021-01-20T00:00:00\",\"2021-01-27T00:00:00\",\"2021-02-10T00:00:00\",\"2021-02-17T00:00:00\",\"2021-02-24T00:00:00\",\"2021-03-10T00:00:00\",\"2021-03-17T00:00:00\",\"2021-03-24T00:00:00\",\"2021-03-31T00:00:00\"],\"y\":[65017315.71337579,72797197.9299363,23880446.904458597,63758532.76433121,66195214.27388535,24282831.770700637,61917574.53503184,71412760.63694267,16320359.668789808,2198931.146496815],\"type\":\"scatter\"},{\"mode\":\"lines\",\"name\":\"train\",\"x\":[\"2019-11-13T00:00:00\",\"2019-11-20T00:00:00\",\"2019-11-27T00:00:00\",\"2019-12-04T00:00:00\",\"2019-12-11T00:00:00\",\"2019-12-18T00:00:00\",\"2019-12-25T00:00:00\",\"2020-01-01T00:00:00\",\"2020-01-08T00:00:00\",\"2020-01-15T00:00:00\",\"2020-01-22T00:00:00\",\"2020-01-29T00:00:00\",\"2020-02-05T00:00:00\",\"2020-02-12T00:00:00\",\"2020-02-19T00:00:00\",\"2020-02-26T00:00:00\",\"2020-03-04T00:00:00\",\"2020-03-11T00:00:00\",\"2020-03-18T00:00:00\",\"2020-03-25T00:00:00\",\"2020-04-01T00:00:00\",\"2020-04-08T00:00:00\",\"2020-04-15T00:00:00\",\"2020-04-22T00:00:00\",\"2020-04-29T00:00:00\",\"2020-05-06T00:00:00\",\"2020-05-13T00:00:00\",\"2020-05-20T00:00:00\",\"2020-05-27T00:00:00\",\"2020-06-03T00:00:00\",\"2020-06-10T00:00:00\",\"2020-06-17T00:00:00\",\"2020-06-24T00:00:00\",\"2020-07-01T00:00:00\",\"2020-07-08T00:00:00\",\"2020-07-15T00:00:00\",\"2020-07-22T00:00:00\",\"2020-07-29T00:00:00\",\"2020-08-05T00:00:00\",\"2020-08-12T00:00:00\",\"2020-08-19T00:00:00\",\"2020-08-26T00:00:00\",\"2020-09-02T00:00:00\",\"2020-09-09T00:00:00\",\"2020-09-16T00:00:00\",\"2020-09-23T00:00:00\",\"2020-09-30T00:00:00\",\"2020-10-07T00:00:00\",\"2020-10-14T00:00:00\",\"2020-10-21T00:00:00\",\"2020-10-28T00:00:00\",\"2020-11-04T00:00:00\",\"2020-11-11T00:00:00\",\"2020-11-18T00:00:00\",\"2020-11-25T00:00:00\",\"2020-12-02T00:00:00\",\"2020-12-09T00:00:00\",\"2020-12-16T00:00:00\",\"2020-12-23T00:00:00\",\"2020-12-30T00:00:00\"],\"y\":[63271084.66878981,63488722.73248407,19262963.222929936,1924.5095541401276,67216663.17834395,32728575.05732484,55633449.66242038,0.0,0.0,60977930.53503184,60266456.28025477,17280426.25477707,1070765.9936305734,60211983.84713376,59344521.26751592,21558861.72611465,14221.32484076433,63577170.66242038,31561274.03821656,48317329.00636943,3849.019108280255,30334157.57961783,62789248.8598726,43077750.050955415,1096472.6242038216,0.0,61172765.08280255,61366645.92993631,11858443.68152866,849653.4076433121,57945465.05095541,58950335.484076425,13008528.617834397,0.0,26390389.89808917,57932649.25477707,40917147.49681529,1219801.757961783,0.0,59020683.94267516,55690501.93630573,23698077.414012738,0.0,62309789.64968152,58908285.92993631,16841621.96178344,1145609.6114649682,30068865.286624204,62733844.89808916,33695906.5477707,266309.8789808917,0.0,63579845.59235668,57647367.62420382,18901539.286624204,0.0,66571582.4522293,58627727.69426752,12431141.0955414,1924.5095541401276],\"type\":\"scatter\"}],                        {\"template\":{\"data\":{\"barpolar\":[{\"marker\":{\"line\":{\"color\":\"#E5ECF6\",\"width\":0.5},\"pattern\":{\"fillmode\":\"overlay\",\"size\":10,\"solidity\":0.2}},\"type\":\"barpolar\"}],\"bar\":[{\"error_x\":{\"color\":\"#2a3f5f\"},\"error_y\":{\"color\":\"#2a3f5f\"},\"marker\":{\"line\":{\"color\":\"#E5ECF6\",\"width\":0.5},\"pattern\":{\"fillmode\":\"overlay\",\"size\":10,\"solidity\":0.2}},\"type\":\"bar\"}],\"carpet\":[{\"aaxis\":{\"endlinecolor\":\"#2a3f5f\",\"gridcolor\":\"white\",\"linecolor\":\"white\",\"minorgridcolor\":\"white\",\"startlinecolor\":\"#2a3f5f\"},\"baxis\":{\"endlinecolor\":\"#2a3f5f\",\"gridcolor\":\"white\",\"linecolor\":\"white\",\"minorgridcolor\":\"white\",\"startlinecolor\":\"#2a3f5f\"},\"type\":\"carpet\"}],\"choropleth\":[{\"colorbar\":{\"outlinewidth\":0,\"ticks\":\"\"},\"type\":\"choropleth\"}],\"contourcarpet\":[{\"colorbar\":{\"outlinewidth\":0,\"ticks\":\"\"},\"type\":\"contourcarpet\"}],\"contour\":[{\"colorbar\":{\"outlinewidth\":0,\"ticks\":\"\"},\"colorscale\":[[0.0,\"#0d0887\"],[0.1111111111111111,\"#46039f\"],[0.2222222222222222,\"#7201a8\"],[0.3333333333333333,\"#9c179e\"],[0.4444444444444444,\"#bd3786\"],[0.5555555555555556,\"#d8576b\"],[0.6666666666666666,\"#ed7953\"],[0.7777777777777778,\"#fb9f3a\"],[0.8888888888888888,\"#fdca26\"],[1.0,\"#f0f921\"]],\"type\":\"contour\"}],\"heatmapgl\":[{\"colorbar\":{\"outlinewidth\":0,\"ticks\":\"\"},\"colorscale\":[[0.0,\"#0d0887\"],[0.1111111111111111,\"#46039f\"],[0.2222222222222222,\"#7201a8\"],[0.3333333333333333,\"#9c179e\"],[0.4444444444444444,\"#bd3786\"],[0.5555555555555556,\"#d8576b\"],[0.6666666666666666,\"#ed7953\"],[0.7777777777777778,\"#fb9f3a\"],[0.8888888888888888,\"#fdca26\"],[1.0,\"#f0f921\"]],\"type\":\"heatmapgl\"}],\"heatmap\":[{\"colorbar\":{\"outlinewidth\":0,\"ticks\":\"\"},\"colorscale\":[[0.0,\"#0d0887\"],[0.1111111111111111,\"#46039f\"],[0.2222222222222222,\"#7201a8\"],[0.3333333333333333,\"#9c179e\"],[0.4444444444444444,\"#bd3786\"],[0.5555555555555556,\"#d8576b\"],[0.6666666666666666,\"#ed7953\"],[0.7777777777777778,\"#fb9f3a\"],[0.8888888888888888,\"#fdca26\"],[1.0,\"#f0f921\"]],\"type\":\"heatmap\"}],\"histogram2dcontour\":[{\"colorbar\":{\"outlinewidth\":0,\"ticks\":\"\"},\"colorscale\":[[0.0,\"#0d0887\"],[0.1111111111111111,\"#46039f\"],[0.2222222222222222,\"#7201a8\"],[0.3333333333333333,\"#9c179e\"],[0.4444444444444444,\"#bd3786\"],[0.5555555555555556,\"#d8576b\"],[0.6666666666666666,\"#ed7953\"],[0.7777777777777778,\"#fb9f3a\"],[0.8888888888888888,\"#fdca26\"],[1.0,\"#f0f921\"]],\"type\":\"histogram2dcontour\"}],\"histogram2d\":[{\"colorbar\":{\"outlinewidth\":0,\"ticks\":\"\"},\"colorscale\":[[0.0,\"#0d0887\"],[0.1111111111111111,\"#46039f\"],[0.2222222222222222,\"#7201a8\"],[0.3333333333333333,\"#9c179e\"],[0.4444444444444444,\"#bd3786\"],[0.5555555555555556,\"#d8576b\"],[0.6666666666666666,\"#ed7953\"],[0.7777777777777778,\"#fb9f3a\"],[0.8888888888888888,\"#fdca26\"],[1.0,\"#f0f921\"]],\"type\":\"histogram2d\"}],\"histogram\":[{\"marker\":{\"pattern\":{\"fillmode\":\"overlay\",\"size\":10,\"solidity\":0.2}},\"type\":\"histogram\"}],\"mesh3d\":[{\"colorbar\":{\"outlinewidth\":0,\"ticks\":\"\"},\"type\":\"mesh3d\"}],\"parcoords\":[{\"line\":{\"colorbar\":{\"outlinewidth\":0,\"ticks\":\"\"}},\"type\":\"parcoords\"}],\"pie\":[{\"automargin\":true,\"type\":\"pie\"}],\"scatter3d\":[{\"line\":{\"colorbar\":{\"outlinewidth\":0,\"ticks\":\"\"}},\"marker\":{\"colorbar\":{\"outlinewidth\":0,\"ticks\":\"\"}},\"type\":\"scatter3d\"}],\"scattercarpet\":[{\"marker\":{\"colorbar\":{\"outlinewidth\":0,\"ticks\":\"\"}},\"type\":\"scattercarpet\"}],\"scattergeo\":[{\"marker\":{\"colorbar\":{\"outlinewidth\":0,\"ticks\":\"\"}},\"type\":\"scattergeo\"}],\"scattergl\":[{\"marker\":{\"colorbar\":{\"outlinewidth\":0,\"ticks\":\"\"}},\"type\":\"scattergl\"}],\"scattermapbox\":[{\"marker\":{\"colorbar\":{\"outlinewidth\":0,\"ticks\":\"\"}},\"type\":\"scattermapbox\"}],\"scatterpolargl\":[{\"marker\":{\"colorbar\":{\"outlinewidth\":0,\"ticks\":\"\"}},\"type\":\"scatterpolargl\"}],\"scatterpolar\":[{\"marker\":{\"colorbar\":{\"outlinewidth\":0,\"ticks\":\"\"}},\"type\":\"scatterpolar\"}],\"scatter\":[{\"marker\":{\"colorbar\":{\"outlinewidth\":0,\"ticks\":\"\"}},\"type\":\"scatter\"}],\"scatterternary\":[{\"marker\":{\"colorbar\":{\"outlinewidth\":0,\"ticks\":\"\"}},\"type\":\"scatterternary\"}],\"surface\":[{\"colorbar\":{\"outlinewidth\":0,\"ticks\":\"\"},\"colorscale\":[[0.0,\"#0d0887\"],[0.1111111111111111,\"#46039f\"],[0.2222222222222222,\"#7201a8\"],[0.3333333333333333,\"#9c179e\"],[0.4444444444444444,\"#bd3786\"],[0.5555555555555556,\"#d8576b\"],[0.6666666666666666,\"#ed7953\"],[0.7777777777777778,\"#fb9f3a\"],[0.8888888888888888,\"#fdca26\"],[1.0,\"#f0f921\"]],\"type\":\"surface\"}],\"table\":[{\"cells\":{\"fill\":{\"color\":\"#EBF0F8\"},\"line\":{\"color\":\"white\"}},\"header\":{\"fill\":{\"color\":\"#C8D4E3\"},\"line\":{\"color\":\"white\"}},\"type\":\"table\"}]},\"layout\":{\"annotationdefaults\":{\"arrowcolor\":\"#2a3f5f\",\"arrowhead\":0,\"arrowwidth\":1},\"autotypenumbers\":\"strict\",\"coloraxis\":{\"colorbar\":{\"outlinewidth\":0,\"ticks\":\"\"}},\"colorscale\":{\"diverging\":[[0,\"#8e0152\"],[0.1,\"#c51b7d\"],[0.2,\"#de77ae\"],[0.3,\"#f1b6da\"],[0.4,\"#fde0ef\"],[0.5,\"#f7f7f7\"],[0.6,\"#e6f5d0\"],[0.7,\"#b8e186\"],[0.8,\"#7fbc41\"],[0.9,\"#4d9221\"],[1,\"#276419\"]],\"sequential\":[[0.0,\"#0d0887\"],[0.1111111111111111,\"#46039f\"],[0.2222222222222222,\"#7201a8\"],[0.3333333333333333,\"#9c179e\"],[0.4444444444444444,\"#bd3786\"],[0.5555555555555556,\"#d8576b\"],[0.6666666666666666,\"#ed7953\"],[0.7777777777777778,\"#fb9f3a\"],[0.8888888888888888,\"#fdca26\"],[1.0,\"#f0f921\"]],\"sequentialminus\":[[0.0,\"#0d0887\"],[0.1111111111111111,\"#46039f\"],[0.2222222222222222,\"#7201a8\"],[0.3333333333333333,\"#9c179e\"],[0.4444444444444444,\"#bd3786\"],[0.5555555555555556,\"#d8576b\"],[0.6666666666666666,\"#ed7953\"],[0.7777777777777778,\"#fb9f3a\"],[0.8888888888888888,\"#fdca26\"],[1.0,\"#f0f921\"]]},\"colorway\":[\"#636efa\",\"#EF553B\",\"#00cc96\",\"#ab63fa\",\"#FFA15A\",\"#19d3f3\",\"#FF6692\",\"#B6E880\",\"#FF97FF\",\"#FECB52\"],\"font\":{\"color\":\"#2a3f5f\"},\"geo\":{\"bgcolor\":\"white\",\"lakecolor\":\"white\",\"landcolor\":\"#E5ECF6\",\"showlakes\":true,\"showland\":true,\"subunitcolor\":\"white\"},\"hoverlabel\":{\"align\":\"left\"},\"hovermode\":\"closest\",\"mapbox\":{\"style\":\"light\"},\"paper_bgcolor\":\"white\",\"plot_bgcolor\":\"#E5ECF6\",\"polar\":{\"angularaxis\":{\"gridcolor\":\"white\",\"linecolor\":\"white\",\"ticks\":\"\"},\"bgcolor\":\"#E5ECF6\",\"radialaxis\":{\"gridcolor\":\"white\",\"linecolor\":\"white\",\"ticks\":\"\"}},\"scene\":{\"xaxis\":{\"backgroundcolor\":\"#E5ECF6\",\"gridcolor\":\"white\",\"gridwidth\":2,\"linecolor\":\"white\",\"showbackground\":true,\"ticks\":\"\",\"zerolinecolor\":\"white\"},\"yaxis\":{\"backgroundcolor\":\"#E5ECF6\",\"gridcolor\":\"white\",\"gridwidth\":2,\"linecolor\":\"white\",\"showbackground\":true,\"ticks\":\"\",\"zerolinecolor\":\"white\"},\"zaxis\":{\"backgroundcolor\":\"#E5ECF6\",\"gridcolor\":\"white\",\"gridwidth\":2,\"linecolor\":\"white\",\"showbackground\":true,\"ticks\":\"\",\"zerolinecolor\":\"white\"}},\"shapedefaults\":{\"line\":{\"color\":\"#2a3f5f\"}},\"ternary\":{\"aaxis\":{\"gridcolor\":\"white\",\"linecolor\":\"white\",\"ticks\":\"\"},\"baxis\":{\"gridcolor\":\"white\",\"linecolor\":\"white\",\"ticks\":\"\"},\"bgcolor\":\"#E5ECF6\",\"caxis\":{\"gridcolor\":\"white\",\"linecolor\":\"white\",\"ticks\":\"\"}},\"title\":{\"x\":0.05},\"xaxis\":{\"automargin\":true,\"gridcolor\":\"white\",\"linecolor\":\"white\",\"ticks\":\"\",\"title\":{\"standoff\":15},\"zerolinecolor\":\"white\",\"zerolinewidth\":2},\"yaxis\":{\"automargin\":true,\"gridcolor\":\"white\",\"linecolor\":\"white\",\"ticks\":\"\",\"title\":{\"standoff\":15},\"zerolinecolor\":\"white\",\"zerolinewidth\":2}}},\"title\":{\"text\":\"\"}},                        {\"responsive\": true}                    ).then(function(){\n",
       "                            \n",
       "var gd = document.getElementById('95cb968f-780b-4d48-b2dc-8d96430d1d5f');\n",
       "var x = new MutationObserver(function (mutations, observer) {{\n",
       "        var display = window.getComputedStyle(gd).display;\n",
       "        if (!display || display === 'none') {{\n",
       "            console.log([gd, 'removed!']);\n",
       "            Plotly.purge(gd);\n",
       "            observer.disconnect();\n",
       "        }}\n",
       "}});\n",
       "\n",
       "// Listen for the removal of the full notebook cells\n",
       "var notebookContainer = gd.closest('#notebook-container');\n",
       "if (notebookContainer) {{\n",
       "    x.observe(notebookContainer, {childList: true});\n",
       "}}\n",
       "\n",
       "// Listen for the clearing of the current output cell\n",
       "var outputEl = gd.closest('.output');\n",
       "if (outputEl) {{\n",
       "    x.observe(outputEl, {childList: true});\n",
       "}}\n",
       "\n",
       "                        })                };                });            </script>        </div>"
      ]
     },
     "metadata": {},
     "output_type": "display_data"
    }
   ],
   "source": [
    "comparePredValPlot()"
   ]
  },
  {
   "cell_type": "code",
   "execution_count": 550,
   "id": "3bc0df67",
   "metadata": {},
   "outputs": [
    {
     "data": {
      "text/plain": [
       "406944400.89704967"
      ]
     },
     "execution_count": 550,
     "metadata": {},
     "output_type": "execute_result"
    }
   ],
   "source": [
    "def mae_monthly(X_df, y_df):\n",
    "    y_df['Расчет ликвидности - дата'] = pd.to_datetime(y_df['Расчет ликвидности - дата'])\n",
    "    y_df = y_df.rename({'Расчет ликвидности - дата': 'date', 'Сумма в валюте транзакции':'sum'}, axis=1)\n",
    "    #y_df['cumsum'] = y_df.groupby(by=['Период'])['Сумма в валюте транзакции'].cumsum()\n",
    "    \n",
    "    #X_df['period'] = X_df['date'].dt.month\n",
    "    #X_df['cumsum'] = X_df.groupby(by=['period'])['sum'].cumsum()\n",
    "    \n",
    "    merged_df = X_df[['date', 'sum']].merge(y_df[['date', 'sum']], on='date', how='outer').fillna(0).sort_values(by=['date'], ascending=True)\n",
    "    merged_df['period'] = merged_df['date'].dt.month\n",
    "    merged_df['x_cumsum'] = merged_df.groupby(by=['period'])['sum_x'].cumsum()\n",
    "    merged_df['y_cumsum'] = merged_df.groupby(by=['period'])['sum_y'].cumsum()\n",
    "    mae_list = []\n",
    "    for i in range(1,max(merged_df['period']),1):\n",
    "        filtered_merged_df = merged_df[merged_df['period']==i]\n",
    "        mae_list.append(mean_absolute_error(filtered_merged_df['x_cumsum'], filtered_merged_df['y_cumsum']))\n",
    "    return np.mean(mae_list)\n",
    "\n",
    "mae_monthly(dfres5f.copy(), valid_res[valid_res['БЕ']==0].copy())"
   ]
  }
 ],
 "metadata": {
  "kernelspec": {
   "display_name": "Python 3 (ipykernel)",
   "language": "python",
   "name": "python3"
  },
  "language_info": {
   "codemirror_mode": {
    "name": "ipython",
    "version": 3
   },
   "file_extension": ".py",
   "mimetype": "text/x-python",
   "name": "python",
   "nbconvert_exporter": "python",
   "pygments_lexer": "ipython3",
   "version": "3.9.7"
  }
 },
 "nbformat": 4,
 "nbformat_minor": 5
}
